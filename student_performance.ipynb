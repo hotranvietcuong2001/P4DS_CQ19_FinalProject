{
 "cells": [
  {
   "cell_type": "markdown",
   "metadata": {},
   "source": [
    "## Import các thư viện cần thiết"
   ]
  },
  {
   "cell_type": "code",
   "execution_count": 1,
   "metadata": {},
   "outputs": [],
   "source": [
    "import pandas as pd\n",
    "import numpy as np\n",
    "import matplotlib.pyplot as plt"
   ]
  },
  {
   "cell_type": "markdown",
   "metadata": {},
   "source": [
    "---"
   ]
  },
  {
   "cell_type": "markdown",
   "metadata": {},
   "source": [
    "## Thu thập dữ liệu"
   ]
  },
  {
   "cell_type": "markdown",
   "metadata": {},
   "source": [
    "Ta dùng bộ dữ liệu được thu thập sẵn, lấy ở trang archive.ics.uci.edu qua đường link [tại đây](https://archive.ics.uci.edu/ml/datasets/Student+Performance)."
   ]
  },
  {
   "cell_type": "markdown",
   "metadata": {},
   "source": [
    "Ta được phép sử dụng bộ dữ liệu này cho mục đích học tập."
   ]
  },
  {
   "cell_type": "markdown",
   "metadata": {},
   "source": [
    "Trích dẫn:\n",
    "> P. Cortez and A. Silva. Using Data Mining to Predict Secondary School Student Performance. In A. Brito and J. Teixeira Eds., Proceedings of 5th FUture BUsiness TEChnology Conference (FUBUTEC 2008) pp. 5-12, Porto, Portugal, April, 2008, EUROSIS, ISBN 978-9077381-39-7."
   ]
  },
  {
   "cell_type": "markdown",
   "metadata": {},
   "source": [
    "Theo mô tả dữ liệu:\n",
    "> This data approach student achievement in secondary education of two Portuguese schools. The data attributes include student grades, demographic, social and school related features) and it was collected by using school reports and questionnaires. Two datasets are provided regarding the performance in two distinct subjects: Mathematics (mat) and Portuguese language (por). In [Cortez and Silva, 2008], the two datasets were modeled under binary/five-level classification and regression tasks. Important note: the target attribute G3 has a strong correlation with attributes G2 and G1. This occurs because G3 is the final year grade (issued at the 3rd period), while G1 and G2 correspond to the 1st and 2nd period grades. It is more difficult to predict G3 without G2 and G1, but such prediction is much more useful (see paper source for more details)."
   ]
  },
  {
   "cell_type": "markdown",
   "metadata": {},
   "source": [
    "Trong bài này, vì môn `Mathematics` và `Portuguese` không liên quan đến nhau nên ta chỉ sử dụng bộ dữ liệu thể hiện `Performance Student` trong môn học `Mathematics`"
   ]
  },
  {
   "cell_type": "markdown",
   "metadata": {},
   "source": [
    "---"
   ]
  },
  {
   "cell_type": "markdown",
   "metadata": {},
   "source": [
    "## Khám phá dữ liệu"
   ]
  },
  {
   "cell_type": "markdown",
   "metadata": {},
   "source": [
    "### Đọc dữ liệu từ file csv vào dataframe"
   ]
  },
  {
   "cell_type": "code",
   "execution_count": 2,
   "metadata": {},
   "outputs": [
    {
     "data": {
      "text/html": [
       "<div>\n",
       "<style scoped>\n",
       "    .dataframe tbody tr th:only-of-type {\n",
       "        vertical-align: middle;\n",
       "    }\n",
       "\n",
       "    .dataframe tbody tr th {\n",
       "        vertical-align: top;\n",
       "    }\n",
       "\n",
       "    .dataframe thead th {\n",
       "        text-align: right;\n",
       "    }\n",
       "</style>\n",
       "<table border=\"1\" class=\"dataframe\">\n",
       "  <thead>\n",
       "    <tr style=\"text-align: right;\">\n",
       "      <th></th>\n",
       "      <th>school</th>\n",
       "      <th>sex</th>\n",
       "      <th>age</th>\n",
       "      <th>address</th>\n",
       "      <th>famsize</th>\n",
       "      <th>Pstatus</th>\n",
       "      <th>Medu</th>\n",
       "      <th>Fedu</th>\n",
       "      <th>Mjob</th>\n",
       "      <th>Fjob</th>\n",
       "      <th>...</th>\n",
       "      <th>famrel</th>\n",
       "      <th>freetime</th>\n",
       "      <th>goout</th>\n",
       "      <th>Dalc</th>\n",
       "      <th>Walc</th>\n",
       "      <th>health</th>\n",
       "      <th>absences</th>\n",
       "      <th>G1</th>\n",
       "      <th>G2</th>\n",
       "      <th>G3</th>\n",
       "    </tr>\n",
       "  </thead>\n",
       "  <tbody>\n",
       "    <tr>\n",
       "      <th>0</th>\n",
       "      <td>GP</td>\n",
       "      <td>F</td>\n",
       "      <td>18</td>\n",
       "      <td>U</td>\n",
       "      <td>GT3</td>\n",
       "      <td>A</td>\n",
       "      <td>4</td>\n",
       "      <td>4</td>\n",
       "      <td>at_home</td>\n",
       "      <td>teacher</td>\n",
       "      <td>...</td>\n",
       "      <td>4</td>\n",
       "      <td>3</td>\n",
       "      <td>4</td>\n",
       "      <td>1</td>\n",
       "      <td>1</td>\n",
       "      <td>3</td>\n",
       "      <td>6</td>\n",
       "      <td>5</td>\n",
       "      <td>6</td>\n",
       "      <td>6</td>\n",
       "    </tr>\n",
       "    <tr>\n",
       "      <th>1</th>\n",
       "      <td>GP</td>\n",
       "      <td>F</td>\n",
       "      <td>17</td>\n",
       "      <td>U</td>\n",
       "      <td>GT3</td>\n",
       "      <td>T</td>\n",
       "      <td>1</td>\n",
       "      <td>1</td>\n",
       "      <td>at_home</td>\n",
       "      <td>other</td>\n",
       "      <td>...</td>\n",
       "      <td>5</td>\n",
       "      <td>3</td>\n",
       "      <td>3</td>\n",
       "      <td>1</td>\n",
       "      <td>1</td>\n",
       "      <td>3</td>\n",
       "      <td>4</td>\n",
       "      <td>5</td>\n",
       "      <td>5</td>\n",
       "      <td>6</td>\n",
       "    </tr>\n",
       "    <tr>\n",
       "      <th>2</th>\n",
       "      <td>GP</td>\n",
       "      <td>F</td>\n",
       "      <td>15</td>\n",
       "      <td>U</td>\n",
       "      <td>LE3</td>\n",
       "      <td>T</td>\n",
       "      <td>1</td>\n",
       "      <td>1</td>\n",
       "      <td>at_home</td>\n",
       "      <td>other</td>\n",
       "      <td>...</td>\n",
       "      <td>4</td>\n",
       "      <td>3</td>\n",
       "      <td>2</td>\n",
       "      <td>2</td>\n",
       "      <td>3</td>\n",
       "      <td>3</td>\n",
       "      <td>10</td>\n",
       "      <td>7</td>\n",
       "      <td>8</td>\n",
       "      <td>10</td>\n",
       "    </tr>\n",
       "    <tr>\n",
       "      <th>3</th>\n",
       "      <td>GP</td>\n",
       "      <td>F</td>\n",
       "      <td>15</td>\n",
       "      <td>U</td>\n",
       "      <td>GT3</td>\n",
       "      <td>T</td>\n",
       "      <td>4</td>\n",
       "      <td>2</td>\n",
       "      <td>health</td>\n",
       "      <td>services</td>\n",
       "      <td>...</td>\n",
       "      <td>3</td>\n",
       "      <td>2</td>\n",
       "      <td>2</td>\n",
       "      <td>1</td>\n",
       "      <td>1</td>\n",
       "      <td>5</td>\n",
       "      <td>2</td>\n",
       "      <td>15</td>\n",
       "      <td>14</td>\n",
       "      <td>15</td>\n",
       "    </tr>\n",
       "    <tr>\n",
       "      <th>4</th>\n",
       "      <td>GP</td>\n",
       "      <td>F</td>\n",
       "      <td>16</td>\n",
       "      <td>U</td>\n",
       "      <td>GT3</td>\n",
       "      <td>T</td>\n",
       "      <td>3</td>\n",
       "      <td>3</td>\n",
       "      <td>other</td>\n",
       "      <td>other</td>\n",
       "      <td>...</td>\n",
       "      <td>4</td>\n",
       "      <td>3</td>\n",
       "      <td>2</td>\n",
       "      <td>1</td>\n",
       "      <td>2</td>\n",
       "      <td>5</td>\n",
       "      <td>4</td>\n",
       "      <td>6</td>\n",
       "      <td>10</td>\n",
       "      <td>10</td>\n",
       "    </tr>\n",
       "  </tbody>\n",
       "</table>\n",
       "<p>5 rows × 33 columns</p>\n",
       "</div>"
      ],
      "text/plain": [
       "  school sex  age address famsize Pstatus  Medu  Fedu     Mjob      Fjob  ...  \\\n",
       "0     GP   F   18       U     GT3       A     4     4  at_home   teacher  ...   \n",
       "1     GP   F   17       U     GT3       T     1     1  at_home     other  ...   \n",
       "2     GP   F   15       U     LE3       T     1     1  at_home     other  ...   \n",
       "3     GP   F   15       U     GT3       T     4     2   health  services  ...   \n",
       "4     GP   F   16       U     GT3       T     3     3    other     other  ...   \n",
       "\n",
       "  famrel freetime  goout  Dalc  Walc health absences  G1  G2  G3  \n",
       "0      4        3      4     1     1      3        6   5   6   6  \n",
       "1      5        3      3     1     1      3        4   5   5   6  \n",
       "2      4        3      2     2     3      3       10   7   8  10  \n",
       "3      3        2      2     1     1      5        2  15  14  15  \n",
       "4      4        3      2     1     2      5        4   6  10  10  \n",
       "\n",
       "[5 rows x 33 columns]"
      ]
     },
     "execution_count": 2,
     "metadata": {},
     "output_type": "execute_result"
    }
   ],
   "source": [
    "mat_df = pd.read_csv(\"student-mat.csv\", delimiter=';')\n",
    "mat_df.head()"
   ]
  },
  {
   "cell_type": "markdown",
   "metadata": {},
   "source": [
    "### Dữ liệu gồm bao nhiều dòng, bao nhiêu cột?"
   ]
  },
  {
   "cell_type": "code",
   "execution_count": 3,
   "metadata": {},
   "outputs": [
    {
     "name": "stdout",
     "output_type": "stream",
     "text": [
      "Số dòng:  395\n",
      "Số cột:  33\n"
     ]
    }
   ],
   "source": [
    "num_rows = mat_df.shape[0]\n",
    "num_cols = mat_df.shape[1]\n",
    "print('Số dòng: ', num_rows)\n",
    "print('Số cột: ', num_cols)"
   ]
  },
  {
   "cell_type": "markdown",
   "metadata": {},
   "source": [
    "### Mỗi dòng có ý nghĩa gì? Có vấn đề các dòng có ý nghĩa khác nhau không?"
   ]
  },
  {
   "cell_type": "markdown",
   "metadata": {},
   "source": [
    "Mỗi dòng tương ứng với thông tin (thông tin cá nhân, điểm) của một học sinh tham gia lớp Toán của hai trường được thu thập dữ liệu. Có vẻ như không xảy ra các dòng có ý nghĩa khác nhau"
   ]
  },
  {
   "cell_type": "markdown",
   "metadata": {},
   "source": [
    "### Dữ liệu có các dòng bị lặp không?"
   ]
  },
  {
   "cell_type": "code",
   "execution_count": 4,
   "metadata": {},
   "outputs": [
    {
     "name": "stdout",
     "output_type": "stream",
     "text": [
      "Không có dòng lặp\n"
     ]
    }
   ],
   "source": [
    "duplicated_rows = mat_df.duplicated().sum()\n",
    "if duplicated_rows > 0:\n",
    "    print(\"Số dòng lặp: \", duplicated_rows)\n",
    "else:\n",
    "    print(\"Không có dòng lặp\")"
   ]
  },
  {
   "cell_type": "markdown",
   "metadata": {},
   "source": [
    "Vậy là không có dòng lặp bị lặp trong bộ dữ liệu"
   ]
  },
  {
   "cell_type": "markdown",
   "metadata": {},
   "source": [
    "### Mỗi cột có ý nghĩa gì?"
   ]
  },
  {
   "cell_type": "markdown",
   "metadata": {},
   "source": [
    "Dưới đây là phần mô tả dữ liệu trong file `student.txt` về các cột trong file dữ liệu \"student-mat.csv\""
   ]
  },
  {
   "cell_type": "markdown",
   "metadata": {},
   "source": [
    "- **school**: student's school (binary: 'GP' - Gabriel Pereira or 'MS' - Mousinho da Silveira)\n",
    "- **sex**: student's sex (binary: 'F' - female or 'M' - male)\n",
    "- **age**: student's age (numeric: from 15 to 22)\n",
    "- **address**: student's home address type (binary: 'U' - urban or 'R' - rural)\n",
    "- **famsize**: family size (binary: 'LE3' - less or equal to 3 or 'GT3' - greater than 3)\n",
    "- **Pstatus**: parent's cohabitation status (binary: 'T' - living together or 'A' - apart)\n",
    "- **Medu**: mother's education (numeric: 0 - none,  1 - primary education (4th grade), 2 – 5th to 9th grade, 3 – secondary education or 4 – higher education)\n",
    "- **Fedu**: father's education (numeric: 0 - none,  1 - primary education (4th grade), 2 – 5th to 9th grade, 3 – secondary education or 4 – higher education)\n",
    "- **Mjob**: mother's job (nominal: 'teacher', 'health' care related, civil 'services' (e.g. administrative or police), 'at_home' or 'other')\n",
    "- **Fjob**: father's job (nominal: 'teacher', 'health' care related, civil 'services' (e.g. administrative or police), 'at_home' or 'other')\n",
    "- **reason**: reason to choose this school (nominal: close to 'home', school 'reputation', 'course' preference or 'other')\n",
    "- **guardian**: student's guardian (nominal: 'mother', 'father' or 'other')\n",
    "- **traveltime**: home to school travel time (numeric: 1 - <15 min., 2 - 15 to 30 min., 3 - 30 min. to 1 hour, or 4 - >1 hour)\n",
    "- **studytime**: weekly study time (numeric: 1 - <2 hours, 2 - 2 to 5 hours, 3 - 5 to 10 hours, or 4 - >10 hours)\n",
    "- **failures**: number of past class failures (numeric: n if 1<=n<3, else 4)\n",
    "- **schoolsup**: extra educational support (binary: yes or no)\n",
    "- **famsup**: family educational support (binary: yes or no)\n",
    "- **paid**: extra paid classes within the course subject (Math or Portuguese) (binary: yes or no)\n",
    "- **activities**: extra-curricular activities (binary: yes or no)\n",
    "- **nursery**: attended nursery school (binary: yes or no)\n",
    "- **higher**: wants to take higher education (binary: yes or no)\n",
    "- **internet**: Internet access at home (binary: yes or no)\n",
    "- **romantic**: with a romantic relationship (binary: yes or no)\n",
    "- **famrel**: quality of family relationships (numeric: from 1 - very bad to 5 - excellent)\n",
    "- **freetime**: free time after school (numeric: from 1 - very low to 5 - very high)\n",
    "- **goout**: going out with friends (numeric: from 1 - very low to 5 - very high)\n",
    "- **Dalc**: workday alcohol consumption (numeric: from 1 - very low to 5 - very high)\n",
    "- **Walc**: weekend alcohol consumption (numeric: from 1 - very low to 5 - very high)\n",
    "- **health**: current health status (numeric: from 1 - very bad to 5 - very good)\n",
    "- **absences**: number of school absences (numeric: from 0 to 93)\n",
    "- **G1**: first period grade (numeric: from 0 to 20)\n",
    "- **G2**: second period grade (numeric: from 0 to 20)\n",
    "- **G3**: final grade (numeric: from 0 to 20, output target)"
   ]
  },
  {
   "cell_type": "markdown",
   "metadata": {},
   "source": [
    "### Mỗi cột hiện đang có kiểu dữ liệu gì? Có cột nào có kiểu dữ liệu chưa phù hợp để có thể xử lý tiếp không? "
   ]
  },
  {
   "cell_type": "markdown",
   "metadata": {},
   "source": [
    "Giờ ta xem qua kiểu dữ liệu của các cột nhằm phát hiện cột có kiểu dữ liệu chưa phù hợp"
   ]
  },
  {
   "cell_type": "code",
   "execution_count": 5,
   "metadata": {},
   "outputs": [
    {
     "data": {
      "text/plain": [
       "school        object\n",
       "sex           object\n",
       "age            int64\n",
       "address       object\n",
       "famsize       object\n",
       "Pstatus       object\n",
       "Medu           int64\n",
       "Fedu           int64\n",
       "Mjob          object\n",
       "Fjob          object\n",
       "reason        object\n",
       "guardian      object\n",
       "traveltime     int64\n",
       "studytime      int64\n",
       "failures       int64\n",
       "schoolsup     object\n",
       "famsup        object\n",
       "paid          object\n",
       "activities    object\n",
       "nursery       object\n",
       "higher        object\n",
       "internet      object\n",
       "romantic      object\n",
       "famrel         int64\n",
       "freetime       int64\n",
       "goout          int64\n",
       "Dalc           int64\n",
       "Walc           int64\n",
       "health         int64\n",
       "absences       int64\n",
       "G1             int64\n",
       "G2             int64\n",
       "G3             int64\n",
       "dtype: object"
      ]
     },
     "execution_count": 5,
     "metadata": {},
     "output_type": "execute_result"
    }
   ],
   "source": [
    "mat_df.dtypes"
   ]
  },
  {
   "cell_type": "markdown",
   "metadata": {},
   "source": [
    "**Liệu có vấn đề về kiểu dữ liệu ở những cột có dtype là object ?**"
   ]
  },
  {
   "cell_type": "markdown",
   "metadata": {},
   "source": [
    "Các cột như \"school\", \"sex\", \"address\", ... đang có kiểu dữ liệu là `object`. Vì kiểu dữ liệu `object` có thể chứa một đối tượng bất kỳ trong python nên các phần tử trong mỗi cột có thể sẽ có các kiểu dữ liệu khác nhau (ta giả sử điều này và cần đi chứng minh). Ta duyệt qua các cột có kiểu dữ liệu là `object` và mong chờ mỗi cột chỉ có một kiểu dữ liệu duy nhất và kiểu đó là `string`"
   ]
  },
  {
   "cell_type": "code",
   "execution_count": 6,
   "metadata": {},
   "outputs": [
    {
     "data": {
      "text/html": [
       "<div>\n",
       "<style scoped>\n",
       "    .dataframe tbody tr th:only-of-type {\n",
       "        vertical-align: middle;\n",
       "    }\n",
       "\n",
       "    .dataframe tbody tr th {\n",
       "        vertical-align: top;\n",
       "    }\n",
       "\n",
       "    .dataframe thead th {\n",
       "        text-align: right;\n",
       "    }\n",
       "</style>\n",
       "<table border=\"1\" class=\"dataframe\">\n",
       "  <thead>\n",
       "    <tr style=\"text-align: right;\">\n",
       "      <th></th>\n",
       "      <th>0</th>\n",
       "    </tr>\n",
       "  </thead>\n",
       "  <tbody>\n",
       "    <tr>\n",
       "      <th>school</th>\n",
       "      <td>&lt;class 'str'&gt;</td>\n",
       "    </tr>\n",
       "    <tr>\n",
       "      <th>sex</th>\n",
       "      <td>&lt;class 'str'&gt;</td>\n",
       "    </tr>\n",
       "    <tr>\n",
       "      <th>address</th>\n",
       "      <td>&lt;class 'str'&gt;</td>\n",
       "    </tr>\n",
       "    <tr>\n",
       "      <th>famsize</th>\n",
       "      <td>&lt;class 'str'&gt;</td>\n",
       "    </tr>\n",
       "    <tr>\n",
       "      <th>Pstatus</th>\n",
       "      <td>&lt;class 'str'&gt;</td>\n",
       "    </tr>\n",
       "    <tr>\n",
       "      <th>Mjob</th>\n",
       "      <td>&lt;class 'str'&gt;</td>\n",
       "    </tr>\n",
       "    <tr>\n",
       "      <th>Fjob</th>\n",
       "      <td>&lt;class 'str'&gt;</td>\n",
       "    </tr>\n",
       "    <tr>\n",
       "      <th>reason</th>\n",
       "      <td>&lt;class 'str'&gt;</td>\n",
       "    </tr>\n",
       "    <tr>\n",
       "      <th>guardian</th>\n",
       "      <td>&lt;class 'str'&gt;</td>\n",
       "    </tr>\n",
       "    <tr>\n",
       "      <th>schoolsup</th>\n",
       "      <td>&lt;class 'str'&gt;</td>\n",
       "    </tr>\n",
       "    <tr>\n",
       "      <th>famsup</th>\n",
       "      <td>&lt;class 'str'&gt;</td>\n",
       "    </tr>\n",
       "    <tr>\n",
       "      <th>paid</th>\n",
       "      <td>&lt;class 'str'&gt;</td>\n",
       "    </tr>\n",
       "    <tr>\n",
       "      <th>activities</th>\n",
       "      <td>&lt;class 'str'&gt;</td>\n",
       "    </tr>\n",
       "    <tr>\n",
       "      <th>nursery</th>\n",
       "      <td>&lt;class 'str'&gt;</td>\n",
       "    </tr>\n",
       "    <tr>\n",
       "      <th>higher</th>\n",
       "      <td>&lt;class 'str'&gt;</td>\n",
       "    </tr>\n",
       "    <tr>\n",
       "      <th>internet</th>\n",
       "      <td>&lt;class 'str'&gt;</td>\n",
       "    </tr>\n",
       "    <tr>\n",
       "      <th>romantic</th>\n",
       "      <td>&lt;class 'str'&gt;</td>\n",
       "    </tr>\n",
       "  </tbody>\n",
       "</table>\n",
       "</div>"
      ],
      "text/plain": [
       "                        0\n",
       "school      <class 'str'>\n",
       "sex         <class 'str'>\n",
       "address     <class 'str'>\n",
       "famsize     <class 'str'>\n",
       "Pstatus     <class 'str'>\n",
       "Mjob        <class 'str'>\n",
       "Fjob        <class 'str'>\n",
       "reason      <class 'str'>\n",
       "guardian    <class 'str'>\n",
       "schoolsup   <class 'str'>\n",
       "famsup      <class 'str'>\n",
       "paid        <class 'str'>\n",
       "activities  <class 'str'>\n",
       "nursery     <class 'str'>\n",
       "higher      <class 'str'>\n",
       "internet    <class 'str'>\n",
       "romantic    <class 'str'>"
      ]
     },
     "execution_count": 6,
     "metadata": {},
     "output_type": "execute_result"
    }
   ],
   "source": [
    "def open_object_dtype(s):\n",
    "    dtypes = set()\n",
    "    dtypes.update(set(s.apply(type)))\n",
    "    return list(dtypes)\n",
    "\n",
    "\n",
    "obj_cols = mat_df.select_dtypes(include=['object']).columns\n",
    "mat_df[obj_cols].agg(open_object_dtype).T"
   ]
  },
  {
   "cell_type": "markdown",
   "metadata": {},
   "source": [
    "Vậy là mọi thứ đều tạm ổn.\n",
    "\n",
    "Theo file `student.txt` các cột này chứa kiểu dữ liệu `binary` hoặc `nominal`, ta có thể chuyển các dữ liệu về dạng số (0,1,2,...) nếu cần xử lý bằng các thuật toán máy học. Ở đây, nhằm trực quan và dễ quan sát (con người có thể đọc được)thì ta có thể kiểu dữ liệu của các cột về dạng string."
   ]
  },
  {
   "cell_type": "code",
   "execution_count": 7,
   "metadata": {},
   "outputs": [
    {
     "data": {
      "text/plain": [
       "school        string\n",
       "sex           string\n",
       "address       string\n",
       "famsize       string\n",
       "Pstatus       string\n",
       "Mjob          string\n",
       "Fjob          string\n",
       "reason        string\n",
       "guardian      string\n",
       "schoolsup     string\n",
       "famsup        string\n",
       "paid          string\n",
       "activities    string\n",
       "nursery       string\n",
       "higher        string\n",
       "internet      string\n",
       "romantic      string\n",
       "dtype: object"
      ]
     },
     "execution_count": 7,
     "metadata": {},
     "output_type": "execute_result"
    }
   ],
   "source": [
    "mat_df[obj_cols] = mat_df[obj_cols].astype(\"string\")\n",
    "mat_df[obj_cols].dtypes"
   ]
  },
  {
   "cell_type": "markdown",
   "metadata": {},
   "source": [
    "### Sự phân bố giá trị của mỗi cột"
   ]
  },
  {
   "cell_type": "markdown",
   "metadata": {},
   "source": [
    "#### Với mỗi cột có kiểu dữ liệu dạng numeric, các giá trị được phân bố như thế nào?"
   ]
  },
  {
   "cell_type": "markdown",
   "metadata": {},
   "source": [
    "Theo mô tả trong file `student.txt` và qua quan sát kiểu dữ liệu ở mỗi cột, các cột có kiểu dữ liệu dạng `numeric` là các cột có kiểu dữ liệu `int64`"
   ]
  },
  {
   "cell_type": "code",
   "execution_count": 8,
   "metadata": {},
   "outputs": [
    {
     "data": {
      "text/plain": [
       "Index(['age', 'Medu', 'Fedu', 'traveltime', 'studytime', 'failures', 'famrel',\n",
       "       'freetime', 'goout', 'Dalc', 'Walc', 'health', 'absences', 'G1', 'G2',\n",
       "       'G3'],\n",
       "      dtype='object')"
      ]
     },
     "execution_count": 8,
     "metadata": {},
     "output_type": "execute_result"
    }
   ],
   "source": [
    "nume_cols = mat_df.select_dtypes(include=['int64']).columns\n",
    "nume_cols"
   ]
  },
  {
   "cell_type": "markdown",
   "metadata": {},
   "source": [
    "Với các cột có kiểu dữ liệu số, ta tính:\n",
    "\n",
    "- Tỉ lệ % (từ 0 đến 100) các giá trị thiếu\n",
    "- Giá trị min\n",
    "- Giá trị lower quartile (phân vị 25)\n",
    "- Giá trị median (phân vị 50)\n",
    "- Giá trị upper quartile (phân vị 75)\n",
    "- Giá trị max"
   ]
  },
  {
   "cell_type": "markdown",
   "metadata": {},
   "source": [
    "Các giá trị được làm tròn đến chữ số thập phân thứ 2"
   ]
  },
  {
   "cell_type": "code",
   "execution_count": 9,
   "metadata": {},
   "outputs": [
    {
     "data": {
      "text/html": [
       "<div>\n",
       "<style scoped>\n",
       "    .dataframe tbody tr th:only-of-type {\n",
       "        vertical-align: middle;\n",
       "    }\n",
       "\n",
       "    .dataframe tbody tr th {\n",
       "        vertical-align: top;\n",
       "    }\n",
       "\n",
       "    .dataframe thead th {\n",
       "        text-align: right;\n",
       "    }\n",
       "</style>\n",
       "<table border=\"1\" class=\"dataframe\">\n",
       "  <thead>\n",
       "    <tr style=\"text-align: right;\">\n",
       "      <th></th>\n",
       "      <th>age</th>\n",
       "      <th>Medu</th>\n",
       "      <th>Fedu</th>\n",
       "      <th>traveltime</th>\n",
       "      <th>studytime</th>\n",
       "      <th>failures</th>\n",
       "      <th>famrel</th>\n",
       "      <th>freetime</th>\n",
       "      <th>goout</th>\n",
       "      <th>Dalc</th>\n",
       "      <th>Walc</th>\n",
       "      <th>health</th>\n",
       "      <th>absences</th>\n",
       "      <th>G1</th>\n",
       "      <th>G2</th>\n",
       "      <th>G3</th>\n",
       "    </tr>\n",
       "  </thead>\n",
       "  <tbody>\n",
       "    <tr>\n",
       "      <th>missing_percentage</th>\n",
       "      <td>0.0</td>\n",
       "      <td>0.00</td>\n",
       "      <td>0.00</td>\n",
       "      <td>0.00</td>\n",
       "      <td>0.00</td>\n",
       "      <td>0.00</td>\n",
       "      <td>0.00</td>\n",
       "      <td>0.00</td>\n",
       "      <td>0.00</td>\n",
       "      <td>0.00</td>\n",
       "      <td>0.00</td>\n",
       "      <td>0.00</td>\n",
       "      <td>0.00</td>\n",
       "      <td>0.00</td>\n",
       "      <td>0.00</td>\n",
       "      <td>0.00</td>\n",
       "    </tr>\n",
       "    <tr>\n",
       "      <th>min</th>\n",
       "      <td>15.0</td>\n",
       "      <td>0.00</td>\n",
       "      <td>0.00</td>\n",
       "      <td>1.00</td>\n",
       "      <td>1.00</td>\n",
       "      <td>0.00</td>\n",
       "      <td>1.00</td>\n",
       "      <td>1.00</td>\n",
       "      <td>1.00</td>\n",
       "      <td>1.00</td>\n",
       "      <td>1.00</td>\n",
       "      <td>1.00</td>\n",
       "      <td>0.00</td>\n",
       "      <td>3.00</td>\n",
       "      <td>0.00</td>\n",
       "      <td>0.00</td>\n",
       "    </tr>\n",
       "    <tr>\n",
       "      <th>lower_quartile</th>\n",
       "      <td>16.0</td>\n",
       "      <td>2.00</td>\n",
       "      <td>2.00</td>\n",
       "      <td>1.00</td>\n",
       "      <td>1.00</td>\n",
       "      <td>0.00</td>\n",
       "      <td>4.00</td>\n",
       "      <td>3.00</td>\n",
       "      <td>2.00</td>\n",
       "      <td>1.00</td>\n",
       "      <td>1.00</td>\n",
       "      <td>3.00</td>\n",
       "      <td>0.00</td>\n",
       "      <td>8.00</td>\n",
       "      <td>9.00</td>\n",
       "      <td>8.00</td>\n",
       "    </tr>\n",
       "    <tr>\n",
       "      <th>mean</th>\n",
       "      <td>16.7</td>\n",
       "      <td>2.75</td>\n",
       "      <td>2.52</td>\n",
       "      <td>1.45</td>\n",
       "      <td>2.04</td>\n",
       "      <td>0.33</td>\n",
       "      <td>3.94</td>\n",
       "      <td>3.24</td>\n",
       "      <td>3.11</td>\n",
       "      <td>1.48</td>\n",
       "      <td>2.29</td>\n",
       "      <td>3.55</td>\n",
       "      <td>5.71</td>\n",
       "      <td>10.91</td>\n",
       "      <td>10.71</td>\n",
       "      <td>10.42</td>\n",
       "    </tr>\n",
       "    <tr>\n",
       "      <th>median</th>\n",
       "      <td>17.0</td>\n",
       "      <td>3.00</td>\n",
       "      <td>2.00</td>\n",
       "      <td>1.00</td>\n",
       "      <td>2.00</td>\n",
       "      <td>0.00</td>\n",
       "      <td>4.00</td>\n",
       "      <td>3.00</td>\n",
       "      <td>3.00</td>\n",
       "      <td>1.00</td>\n",
       "      <td>2.00</td>\n",
       "      <td>4.00</td>\n",
       "      <td>4.00</td>\n",
       "      <td>11.00</td>\n",
       "      <td>11.00</td>\n",
       "      <td>11.00</td>\n",
       "    </tr>\n",
       "    <tr>\n",
       "      <th>upper_quartile</th>\n",
       "      <td>18.0</td>\n",
       "      <td>4.00</td>\n",
       "      <td>3.00</td>\n",
       "      <td>2.00</td>\n",
       "      <td>2.00</td>\n",
       "      <td>0.00</td>\n",
       "      <td>5.00</td>\n",
       "      <td>4.00</td>\n",
       "      <td>4.00</td>\n",
       "      <td>2.00</td>\n",
       "      <td>3.00</td>\n",
       "      <td>5.00</td>\n",
       "      <td>8.00</td>\n",
       "      <td>13.00</td>\n",
       "      <td>13.00</td>\n",
       "      <td>14.00</td>\n",
       "    </tr>\n",
       "    <tr>\n",
       "      <th>max</th>\n",
       "      <td>22.0</td>\n",
       "      <td>4.00</td>\n",
       "      <td>4.00</td>\n",
       "      <td>4.00</td>\n",
       "      <td>4.00</td>\n",
       "      <td>3.00</td>\n",
       "      <td>5.00</td>\n",
       "      <td>5.00</td>\n",
       "      <td>5.00</td>\n",
       "      <td>5.00</td>\n",
       "      <td>5.00</td>\n",
       "      <td>5.00</td>\n",
       "      <td>75.00</td>\n",
       "      <td>19.00</td>\n",
       "      <td>19.00</td>\n",
       "      <td>20.00</td>\n",
       "    </tr>\n",
       "  </tbody>\n",
       "</table>\n",
       "</div>"
      ],
      "text/plain": [
       "                     age  Medu  Fedu  traveltime  studytime  failures  famrel  \\\n",
       "missing_percentage   0.0  0.00  0.00        0.00       0.00      0.00    0.00   \n",
       "min                 15.0  0.00  0.00        1.00       1.00      0.00    1.00   \n",
       "lower_quartile      16.0  2.00  2.00        1.00       1.00      0.00    4.00   \n",
       "mean                16.7  2.75  2.52        1.45       2.04      0.33    3.94   \n",
       "median              17.0  3.00  2.00        1.00       2.00      0.00    4.00   \n",
       "upper_quartile      18.0  4.00  3.00        2.00       2.00      0.00    5.00   \n",
       "max                 22.0  4.00  4.00        4.00       4.00      3.00    5.00   \n",
       "\n",
       "                    freetime  goout  Dalc  Walc  health  absences     G1  \\\n",
       "missing_percentage      0.00   0.00  0.00  0.00    0.00      0.00   0.00   \n",
       "min                     1.00   1.00  1.00  1.00    1.00      0.00   3.00   \n",
       "lower_quartile          3.00   2.00  1.00  1.00    3.00      0.00   8.00   \n",
       "mean                    3.24   3.11  1.48  2.29    3.55      5.71  10.91   \n",
       "median                  3.00   3.00  1.00  2.00    4.00      4.00  11.00   \n",
       "upper_quartile          4.00   4.00  2.00  3.00    5.00      8.00  13.00   \n",
       "max                     5.00   5.00  5.00  5.00    5.00     75.00  19.00   \n",
       "\n",
       "                       G2     G3  \n",
       "missing_percentage   0.00   0.00  \n",
       "min                  0.00   0.00  \n",
       "lower_quartile       9.00   8.00  \n",
       "mean                10.71  10.42  \n",
       "median              11.00  11.00  \n",
       "upper_quartile      13.00  14.00  \n",
       "max                 19.00  20.00  "
      ]
     },
     "execution_count": 9,
     "metadata": {},
     "output_type": "execute_result"
    }
   ],
   "source": [
    "index_nume_cols =[\"missing_percentage\", \"min\", \"lower_quartile\", \"mean\", \"median\", \"upper_quartile\", \"max\"]\n",
    "\n",
    "data_nume_col= [\n",
    "    (mat_df[nume_cols].isna().mean()*100).round(2),\n",
    "    mat_df[nume_cols].min().round(2),\n",
    "    mat_df[nume_cols].quantile(.25).round(2),\n",
    "    mat_df[nume_cols].mean().round(2),\n",
    "    mat_df[nume_cols].median().round(2),\n",
    "    mat_df[nume_cols].quantile(.75).round(2),\n",
    "    mat_df[nume_cols].max().round(2)\n",
    "]\n",
    "\n",
    "nume_col_info_df = pd.DataFrame(data = data_nume_col, columns = nume_cols, index= index_nume_cols)\n",
    "nume_col_info_df"
   ]
  },
  {
   "cell_type": "markdown",
   "metadata": {},
   "source": [
    "Vậy không có giá trị thiếu ở các cột! Các giá trị cũng không có dấu hiệu bất thường, đúng như những gì trong file `student.txt` mô tả"
   ]
  },
  {
   "cell_type": "markdown",
   "metadata": {},
   "source": [
    "Đa số các cột numeric được chuẩn hóa về các số dạng các choice (1,2,3,...) theo khoảng đã quy định trước, nên `mean` của các cột đó sẽ chỉ có ý nghĩa ở mức tương đối"
   ]
  },
  {
   "cell_type": "markdown",
   "metadata": {},
   "source": [
    "Ví dụ:\n",
    "- **Medu**: mother's education (numeric: 0 - none, 1 - primary education (4th grade), 2 - “ 5th to 9th grade, 3 - “ secondary education or 4 - “ higher education)\n",
    "- `mean` của **Medu** là 2.749367\n"
   ]
  },
  {
   "cell_type": "markdown",
   "metadata": {},
   "source": [
    "#### Với mỗi cột có kiểu dữ liệu dạng categorical, các giá trị được phân bố như thế nào?"
   ]
  },
  {
   "cell_type": "markdown",
   "metadata": {},
   "source": [
    "Theo mô tả trong file `student.txt` và qua quan sát kiểu dữ liệu ở mỗi cột, các cột có kiểu dữ liệu dạng `categorical` là các cột có kiểu dữ liệu `string`"
   ]
  },
  {
   "cell_type": "code",
   "execution_count": 10,
   "metadata": {},
   "outputs": [
    {
     "data": {
      "text/plain": [
       "Index(['school', 'sex', 'address', 'famsize', 'Pstatus', 'Mjob', 'Fjob',\n",
       "       'reason', 'guardian', 'schoolsup', 'famsup', 'paid', 'activities',\n",
       "       'nursery', 'higher', 'internet', 'romantic'],\n",
       "      dtype='object')"
      ]
     },
     "execution_count": 10,
     "metadata": {},
     "output_type": "execute_result"
    }
   ],
   "source": [
    "cate_cols = mat_df.select_dtypes(include=['string']).columns\n",
    "cate_cols"
   ]
  },
  {
   "cell_type": "markdown",
   "metadata": {},
   "source": [
    "Với các cột có kiểu dữ liệu dạng `categorical`, ta cần tính:\n",
    "\n",
    "- Tỉ lệ % (từ 0 đến 100) các giá trị thiếu\n",
    "- Số lượng các giá trị khác nhau (không xét giá trị thiếu):\n",
    "- Tỉ lệ % (từ 0 đến 100) của mỗi giá trị được sort theo tỉ lệ % giảm dần (không xét giá trị thiếu)"
   ]
  },
  {
   "cell_type": "code",
   "execution_count": 11,
   "metadata": {},
   "outputs": [
    {
     "data": {
      "text/html": [
       "<div>\n",
       "<style scoped>\n",
       "    .dataframe tbody tr th:only-of-type {\n",
       "        vertical-align: middle;\n",
       "    }\n",
       "\n",
       "    .dataframe tbody tr th {\n",
       "        vertical-align: top;\n",
       "    }\n",
       "\n",
       "    .dataframe thead th {\n",
       "        text-align: right;\n",
       "    }\n",
       "</style>\n",
       "<table border=\"1\" class=\"dataframe\">\n",
       "  <thead>\n",
       "    <tr style=\"text-align: right;\">\n",
       "      <th></th>\n",
       "      <th>school</th>\n",
       "      <th>sex</th>\n",
       "      <th>address</th>\n",
       "      <th>famsize</th>\n",
       "      <th>Pstatus</th>\n",
       "      <th>Mjob</th>\n",
       "      <th>Fjob</th>\n",
       "      <th>reason</th>\n",
       "      <th>guardian</th>\n",
       "      <th>schoolsup</th>\n",
       "      <th>famsup</th>\n",
       "      <th>paid</th>\n",
       "      <th>activities</th>\n",
       "      <th>nursery</th>\n",
       "      <th>higher</th>\n",
       "      <th>internet</th>\n",
       "      <th>romantic</th>\n",
       "    </tr>\n",
       "  </thead>\n",
       "  <tbody>\n",
       "    <tr>\n",
       "      <th>missing_percentage</th>\n",
       "      <td>0.0</td>\n",
       "      <td>0.0</td>\n",
       "      <td>0.0</td>\n",
       "      <td>0.0</td>\n",
       "      <td>0.0</td>\n",
       "      <td>0.0</td>\n",
       "      <td>0.0</td>\n",
       "      <td>0.0</td>\n",
       "      <td>0.0</td>\n",
       "      <td>0.0</td>\n",
       "      <td>0.0</td>\n",
       "      <td>0.0</td>\n",
       "      <td>0.0</td>\n",
       "      <td>0.0</td>\n",
       "      <td>0.0</td>\n",
       "      <td>0.0</td>\n",
       "      <td>0.0</td>\n",
       "    </tr>\n",
       "    <tr>\n",
       "      <th>num_values</th>\n",
       "      <td>2</td>\n",
       "      <td>2</td>\n",
       "      <td>2</td>\n",
       "      <td>2</td>\n",
       "      <td>2</td>\n",
       "      <td>5</td>\n",
       "      <td>5</td>\n",
       "      <td>4</td>\n",
       "      <td>3</td>\n",
       "      <td>2</td>\n",
       "      <td>2</td>\n",
       "      <td>2</td>\n",
       "      <td>2</td>\n",
       "      <td>2</td>\n",
       "      <td>2</td>\n",
       "      <td>2</td>\n",
       "      <td>2</td>\n",
       "    </tr>\n",
       "    <tr>\n",
       "      <th>value_percentages</th>\n",
       "      <td>{'GP': 88.35443037974684, 'MS': 11.64556962025...</td>\n",
       "      <td>{'F': 52.65822784810127, 'M': 47.34177215189874}</td>\n",
       "      <td>{'U': 77.72151898734178, 'R': 22.278481012658226}</td>\n",
       "      <td>{'GT3': 71.13924050632912, 'LE3': 28.860759493...</td>\n",
       "      <td>{'T': 89.62025316455696, 'A': 10.379746835443038}</td>\n",
       "      <td>{'other': 35.69620253164557, 'services': 26.07...</td>\n",
       "      <td>{'other': 54.936708860759495, 'services': 28.1...</td>\n",
       "      <td>{'course': 36.708860759493675, 'home': 27.5949...</td>\n",
       "      <td>{'mother': 69.11392405063292, 'father': 22.784...</td>\n",
       "      <td>{'no': 87.0886075949367, 'yes': 12.91139240506...</td>\n",
       "      <td>{'yes': 61.26582278481013, 'no': 38.7341772151...</td>\n",
       "      <td>{'no': 54.177215189873415, 'yes': 45.822784810...</td>\n",
       "      <td>{'yes': 50.8860759493671, 'no': 49.11392405063...</td>\n",
       "      <td>{'yes': 79.49367088607595, 'no': 20.5063291139...</td>\n",
       "      <td>{'yes': 94.9367088607595, 'no': 5.063291139240...</td>\n",
       "      <td>{'yes': 83.29113924050633, 'no': 16.7088607594...</td>\n",
       "      <td>{'no': 66.58227848101265, 'yes': 33.4177215189...</td>\n",
       "    </tr>\n",
       "  </tbody>\n",
       "</table>\n",
       "</div>"
      ],
      "text/plain": [
       "                                                               school  \\\n",
       "missing_percentage                                                0.0   \n",
       "num_values                                                          2   \n",
       "value_percentages   {'GP': 88.35443037974684, 'MS': 11.64556962025...   \n",
       "\n",
       "                                                                 sex  \\\n",
       "missing_percentage                                               0.0   \n",
       "num_values                                                         2   \n",
       "value_percentages   {'F': 52.65822784810127, 'M': 47.34177215189874}   \n",
       "\n",
       "                                                              address  \\\n",
       "missing_percentage                                                0.0   \n",
       "num_values                                                          2   \n",
       "value_percentages   {'U': 77.72151898734178, 'R': 22.278481012658226}   \n",
       "\n",
       "                                                              famsize  \\\n",
       "missing_percentage                                                0.0   \n",
       "num_values                                                          2   \n",
       "value_percentages   {'GT3': 71.13924050632912, 'LE3': 28.860759493...   \n",
       "\n",
       "                                                              Pstatus  \\\n",
       "missing_percentage                                                0.0   \n",
       "num_values                                                          2   \n",
       "value_percentages   {'T': 89.62025316455696, 'A': 10.379746835443038}   \n",
       "\n",
       "                                                                 Mjob  \\\n",
       "missing_percentage                                                0.0   \n",
       "num_values                                                          5   \n",
       "value_percentages   {'other': 35.69620253164557, 'services': 26.07...   \n",
       "\n",
       "                                                                 Fjob  \\\n",
       "missing_percentage                                                0.0   \n",
       "num_values                                                          5   \n",
       "value_percentages   {'other': 54.936708860759495, 'services': 28.1...   \n",
       "\n",
       "                                                               reason  \\\n",
       "missing_percentage                                                0.0   \n",
       "num_values                                                          4   \n",
       "value_percentages   {'course': 36.708860759493675, 'home': 27.5949...   \n",
       "\n",
       "                                                             guardian  \\\n",
       "missing_percentage                                                0.0   \n",
       "num_values                                                          3   \n",
       "value_percentages   {'mother': 69.11392405063292, 'father': 22.784...   \n",
       "\n",
       "                                                            schoolsup  \\\n",
       "missing_percentage                                                0.0   \n",
       "num_values                                                          2   \n",
       "value_percentages   {'no': 87.0886075949367, 'yes': 12.91139240506...   \n",
       "\n",
       "                                                               famsup  \\\n",
       "missing_percentage                                                0.0   \n",
       "num_values                                                          2   \n",
       "value_percentages   {'yes': 61.26582278481013, 'no': 38.7341772151...   \n",
       "\n",
       "                                                                 paid  \\\n",
       "missing_percentage                                                0.0   \n",
       "num_values                                                          2   \n",
       "value_percentages   {'no': 54.177215189873415, 'yes': 45.822784810...   \n",
       "\n",
       "                                                           activities  \\\n",
       "missing_percentage                                                0.0   \n",
       "num_values                                                          2   \n",
       "value_percentages   {'yes': 50.8860759493671, 'no': 49.11392405063...   \n",
       "\n",
       "                                                              nursery  \\\n",
       "missing_percentage                                                0.0   \n",
       "num_values                                                          2   \n",
       "value_percentages   {'yes': 79.49367088607595, 'no': 20.5063291139...   \n",
       "\n",
       "                                                               higher  \\\n",
       "missing_percentage                                                0.0   \n",
       "num_values                                                          2   \n",
       "value_percentages   {'yes': 94.9367088607595, 'no': 5.063291139240...   \n",
       "\n",
       "                                                             internet  \\\n",
       "missing_percentage                                                0.0   \n",
       "num_values                                                          2   \n",
       "value_percentages   {'yes': 83.29113924050633, 'no': 16.7088607594...   \n",
       "\n",
       "                                                             romantic  \n",
       "missing_percentage                                                0.0  \n",
       "num_values                                                          2  \n",
       "value_percentages   {'no': 66.58227848101265, 'yes': 33.4177215189...  "
      ]
     },
     "execution_count": 11,
     "metadata": {},
     "output_type": "execute_result"
    }
   ],
   "source": [
    "index_cate_cols = [\"missing_percentage\", \"num_values\", \"value_percentages\"]\n",
    "\n",
    "\n",
    "def count_value_percentages(data):\n",
    "    return (data.value_counts()/data.count() *100).to_dict()\n",
    "\n",
    "\n",
    "data_cate_col= np.array([\n",
    "    (mat_df[cate_cols].isna().mean() *100),\n",
    "    mat_df[cate_cols].nunique(),\n",
    "    mat_df[cate_cols].agg(count_value_percentages)\n",
    "])\n",
    "\n",
    "cate_col_info_df = pd.DataFrame(data = data_cate_col, columns = cate_cols, index= index_cate_cols)\n",
    "\n",
    "cate_col_info_df"
   ]
  },
  {
   "cell_type": "markdown",
   "metadata": {},
   "source": [
    "Vậy các cột catgorical cũng không có giá trị thiếu nào. Tuy nhiên ta nhận thấy được số lượng học sinh ở trường `MS` được khảo sát khá thấp so với trường `GP`"
   ]
  },
  {
   "cell_type": "markdown",
   "metadata": {},
   "source": [
    "## Đưa ra câu hỏi ý nghĩa cần trả lời"
   ]
  },
  {
   "cell_type": "markdown",
   "metadata": {},
   "source": [
    "### Câu hỏi 1: Một tuần học bao nhiêu giờ để đạt được kết quả điểm toán tối ưu nhất ? "
   ]
  },
  {
   "cell_type": "markdown",
   "metadata": {},
   "source": [
    "Đây là một câu hỏi quan trọng cần trả lời, vì nếu biết được thời gian học nào là tối ưu nhất, học sinh có thể dựa vào đó để căn chỉnh thời gian học sao cho không phí quá nhiều thời gian, cũng như đủ thời gian để tiếp thu rèn luyện được lượng kiến thức môn toán này."
   ]
  },
  {
   "cell_type": "markdown",
   "metadata": {},
   "source": [
    "#### Tiền xử lý"
   ]
  },
  {
   "cell_type": "markdown",
   "metadata": {},
   "source": [
    "Cộng điểm 3 học kì của từng học sinh lại thành điểm tổng lưu vào cột `score`. Điểm được lưu ở cả 3 kỳ `G1`, `G2`, `G3` nên ta thống nhất tính một điểm `score` để đánh giá điểm toán của học sinh"
   ]
  },
  {
   "cell_type": "code",
   "execution_count": 12,
   "metadata": {},
   "outputs": [],
   "source": [
    "mat_df['score'] = mat_df['G1'] + mat_df['G2'] + mat_df['G3']"
   ]
  },
  {
   "cell_type": "markdown",
   "metadata": {},
   "source": [
    "Đầu tiên, ta sẽ thử nắm bắt tổng quát sự ảnh hưởng của thời gian học lên điểm toán như thế nào."
   ]
  },
  {
   "cell_type": "markdown",
   "metadata": {},
   "source": [
    "Theo mô tả : **studytime**: weekly study time (numeric: 1 - <2 hours, 2 - 2 to 5 hours, 3 - 5 to 10 hours, or 4 - >10 hours)"
   ]
  },
  {
   "cell_type": "markdown",
   "metadata": {},
   "source": [
    "- Ta tính điểm trung bình của điểm toán qua thời gian học\n",
    "- Thể hiện bằng biểu đồ plot"
   ]
  },
  {
   "cell_type": "code",
   "execution_count": 13,
   "metadata": {},
   "outputs": [
    {
     "data": {
      "image/png": "[encoded data removed]",
      "text/plain": [
       "<Figure size 432x288 with 1 Axes>"
      ]
     },
     "metadata": {
      "needs_background": "light"
     },
     "output_type": "display_data"
    }
   ],
   "source": [
    "x = sorted(mat_df['studytime'].unique())\n",
    "m_score = []\n",
    "for i in range(1, mat_df['studytime'].nunique()+1):\n",
    "    m_score.append(mat_df[mat_df['studytime']==i]['score'].mean())\n",
    "plt.plot(x,m_score)\n",
    "plt.ylabel(\"Điểm\")\n",
    "plt.xlabel(\"Thời gian học\")\n",
    "plt.xticks([1,2,3,4])\n",
    "plt.show()"
   ]
  },
  {
   "cell_type": "markdown",
   "metadata": {},
   "source": [
    "Nhận xét tổng quát: \n",
    "- Điểm số trung bình dao động từ gần 31 đến hơn 35 điểm theo độ tăng thời gian học\n",
    "- Thời gian học bỏ ra càng nhiều, điểm thu lại càng lớn ! \n",
    "- Nhưng, từ thời gian học ở mức 3 lên 4 (từ 5-10h và >10h) tăng rất ít"
   ]
  },
  {
   "cell_type": "markdown",
   "metadata": {},
   "source": [
    "Với những nhận xét trên ta có kết luận \"Thời gian học bỏ ra càng nhiều, điểm thu lại càng lớn\", nhưng chưa đủ thông tin để kết luận liệu mức thời gian nào sẽ là tối ưu nhất! "
   ]
  },
  {
   "cell_type": "markdown",
   "metadata": {},
   "source": [
    "#### Tiền xử lý:"
   ]
  },
  {
   "cell_type": "markdown",
   "metadata": {},
   "source": [
    "- Ta sẽ phân loại học sinh dựa vào điểm số:\n",
    "- Cột `score` sẽ là các số 0, 1, 2, 3, 4:\n",
    "- 0 - 0 <= score <10 - Yêu\n",
    "- 1 - 10 <= score <20 - Trung bình\n",
    "- 2 - 20 <= score <40 - Khá\n",
    "- 3 - 40 <= score <50 - Giỏi\n",
    "- 4 - 50 <= score <=60 - Xuất sắc"
   ]
  },
  {
   "cell_type": "code",
   "execution_count": 14,
   "metadata": {},
   "outputs": [
    {
     "data": {
      "text/html": [
       "<div>\n",
       "<style scoped>\n",
       "    .dataframe tbody tr th:only-of-type {\n",
       "        vertical-align: middle;\n",
       "    }\n",
       "\n",
       "    .dataframe tbody tr th {\n",
       "        vertical-align: top;\n",
       "    }\n",
       "\n",
       "    .dataframe thead th {\n",
       "        text-align: right;\n",
       "    }\n",
       "</style>\n",
       "<table border=\"1\" class=\"dataframe\">\n",
       "  <thead>\n",
       "    <tr style=\"text-align: right;\">\n",
       "      <th></th>\n",
       "      <th>school</th>\n",
       "      <th>sex</th>\n",
       "      <th>age</th>\n",
       "      <th>address</th>\n",
       "      <th>famsize</th>\n",
       "      <th>Pstatus</th>\n",
       "      <th>Medu</th>\n",
       "      <th>Fedu</th>\n",
       "      <th>Mjob</th>\n",
       "      <th>Fjob</th>\n",
       "      <th>...</th>\n",
       "      <th>freetime</th>\n",
       "      <th>goout</th>\n",
       "      <th>Dalc</th>\n",
       "      <th>Walc</th>\n",
       "      <th>health</th>\n",
       "      <th>absences</th>\n",
       "      <th>G1</th>\n",
       "      <th>G2</th>\n",
       "      <th>G3</th>\n",
       "      <th>score</th>\n",
       "    </tr>\n",
       "  </thead>\n",
       "  <tbody>\n",
       "    <tr>\n",
       "      <th>0</th>\n",
       "      <td>GP</td>\n",
       "      <td>F</td>\n",
       "      <td>18</td>\n",
       "      <td>U</td>\n",
       "      <td>GT3</td>\n",
       "      <td>A</td>\n",
       "      <td>4</td>\n",
       "      <td>4</td>\n",
       "      <td>at_home</td>\n",
       "      <td>teacher</td>\n",
       "      <td>...</td>\n",
       "      <td>3</td>\n",
       "      <td>4</td>\n",
       "      <td>1</td>\n",
       "      <td>1</td>\n",
       "      <td>3</td>\n",
       "      <td>6</td>\n",
       "      <td>5</td>\n",
       "      <td>6</td>\n",
       "      <td>6</td>\n",
       "      <td>1</td>\n",
       "    </tr>\n",
       "    <tr>\n",
       "      <th>1</th>\n",
       "      <td>GP</td>\n",
       "      <td>F</td>\n",
       "      <td>17</td>\n",
       "      <td>U</td>\n",
       "      <td>GT3</td>\n",
       "      <td>T</td>\n",
       "      <td>1</td>\n",
       "      <td>1</td>\n",
       "      <td>at_home</td>\n",
       "      <td>other</td>\n",
       "      <td>...</td>\n",
       "      <td>3</td>\n",
       "      <td>3</td>\n",
       "      <td>1</td>\n",
       "      <td>1</td>\n",
       "      <td>3</td>\n",
       "      <td>4</td>\n",
       "      <td>5</td>\n",
       "      <td>5</td>\n",
       "      <td>6</td>\n",
       "      <td>1</td>\n",
       "    </tr>\n",
       "    <tr>\n",
       "      <th>2</th>\n",
       "      <td>GP</td>\n",
       "      <td>F</td>\n",
       "      <td>15</td>\n",
       "      <td>U</td>\n",
       "      <td>LE3</td>\n",
       "      <td>T</td>\n",
       "      <td>1</td>\n",
       "      <td>1</td>\n",
       "      <td>at_home</td>\n",
       "      <td>other</td>\n",
       "      <td>...</td>\n",
       "      <td>3</td>\n",
       "      <td>2</td>\n",
       "      <td>2</td>\n",
       "      <td>3</td>\n",
       "      <td>3</td>\n",
       "      <td>10</td>\n",
       "      <td>7</td>\n",
       "      <td>8</td>\n",
       "      <td>10</td>\n",
       "      <td>2</td>\n",
       "    </tr>\n",
       "    <tr>\n",
       "      <th>3</th>\n",
       "      <td>GP</td>\n",
       "      <td>F</td>\n",
       "      <td>15</td>\n",
       "      <td>U</td>\n",
       "      <td>GT3</td>\n",
       "      <td>T</td>\n",
       "      <td>4</td>\n",
       "      <td>2</td>\n",
       "      <td>health</td>\n",
       "      <td>services</td>\n",
       "      <td>...</td>\n",
       "      <td>2</td>\n",
       "      <td>2</td>\n",
       "      <td>1</td>\n",
       "      <td>1</td>\n",
       "      <td>5</td>\n",
       "      <td>2</td>\n",
       "      <td>15</td>\n",
       "      <td>14</td>\n",
       "      <td>15</td>\n",
       "      <td>3</td>\n",
       "    </tr>\n",
       "    <tr>\n",
       "      <th>4</th>\n",
       "      <td>GP</td>\n",
       "      <td>F</td>\n",
       "      <td>16</td>\n",
       "      <td>U</td>\n",
       "      <td>GT3</td>\n",
       "      <td>T</td>\n",
       "      <td>3</td>\n",
       "      <td>3</td>\n",
       "      <td>other</td>\n",
       "      <td>other</td>\n",
       "      <td>...</td>\n",
       "      <td>3</td>\n",
       "      <td>2</td>\n",
       "      <td>1</td>\n",
       "      <td>2</td>\n",
       "      <td>5</td>\n",
       "      <td>4</td>\n",
       "      <td>6</td>\n",
       "      <td>10</td>\n",
       "      <td>10</td>\n",
       "      <td>2</td>\n",
       "    </tr>\n",
       "  </tbody>\n",
       "</table>\n",
       "<p>5 rows × 34 columns</p>\n",
       "</div>"
      ],
      "text/plain": [
       "  school sex  age address famsize Pstatus  Medu  Fedu     Mjob      Fjob  ...  \\\n",
       "0     GP   F   18       U     GT3       A     4     4  at_home   teacher  ...   \n",
       "1     GP   F   17       U     GT3       T     1     1  at_home     other  ...   \n",
       "2     GP   F   15       U     LE3       T     1     1  at_home     other  ...   \n",
       "3     GP   F   15       U     GT3       T     4     2   health  services  ...   \n",
       "4     GP   F   16       U     GT3       T     3     3    other     other  ...   \n",
       "\n",
       "  freetime goout  Dalc  Walc  health absences  G1  G2  G3 score  \n",
       "0        3     4     1     1       3        6   5   6   6     1  \n",
       "1        3     3     1     1       3        4   5   5   6     1  \n",
       "2        3     2     2     3       3       10   7   8  10     2  \n",
       "3        2     2     1     1       5        2  15  14  15     3  \n",
       "4        3     2     1     2       5        4   6  10  10     2  \n",
       "\n",
       "[5 rows x 34 columns]"
      ]
     },
     "execution_count": 14,
     "metadata": {},
     "output_type": "execute_result"
    }
   ],
   "source": [
    "df = mat_df.copy()\n",
    "df.loc[df['score'].isin(list(range(10))),'score']=0\n",
    "df.loc[df['score'].isin(list(range(10,20))),'score']=1\n",
    "df.loc[df['score'].isin(list(range(20,40))),'score']=2\n",
    "df.loc[df['score'].isin(list(range(40,50))),'score']=3\n",
    "df.loc[df['score'].isin(list(range(50,61))),'score']=4\n",
    "df.head()"
   ]
  },
  {
   "cell_type": "markdown",
   "metadata": {},
   "source": [
    "Tiếp theo, ta sẽ tìm hiểu sự ảnh hưởng của thời gian học lên từng phân loại học lực:\n",
    "- Tính số lượng học sinh của từng phân loại học lực theo mức thời gian học\n",
    "- Vẽ biểu đồ plot thể hiện"
   ]
  },
  {
   "cell_type": "code",
   "execution_count": 15,
   "metadata": {},
   "outputs": [],
   "source": [
    "total = []\n",
    "for i in range(5):\n",
    "    result = (df[df['score']==i]['studytime'].value_counts()).to_dict()\n",
    "    if 4 not in result.keys():\n",
    "        result[4]=0\n",
    "    result = dict(sorted(result.items()))\n",
    "    total.append(list(result.values()))"
   ]
  },
  {
   "cell_type": "code",
   "execution_count": 16,
   "metadata": {},
   "outputs": [
    {
     "data": {
      "image/png": "[encoded data removed]",
      "text/plain": [
       "<Figure size 432x288 with 1 Axes>"
      ]
     },
     "metadata": {
      "needs_background": "light"
     },
     "output_type": "display_data"
    }
   ],
   "source": [
    "data = total\n",
    "\n",
    "columns = (1, 2, 3, 4)\n",
    "rows = [0, 1, 2, 3, 4]\n",
    "\n",
    "colors = plt.cm.BuPu(np.linspace(0, 0.5, len(rows)))\n",
    "n_rows = len(data)\n",
    "\n",
    "index = np.arange(len(columns)) \n",
    "bar_width = 0.4\n",
    "\n",
    "y_offset = np.zeros(len(columns))\n",
    "\n",
    "for row in range(n_rows):\n",
    "    plt.bar(index, data[row], bar_width, bottom=y_offset, color=colors[row])\n",
    "    y_offset += data[row]\n",
    "\n",
    "cell_text = data\n",
    "\n",
    "the_table = plt.table(cellText=cell_text,\n",
    "                      rowLabels=[\"Yếu\", \"Trung bình\", \"Khá\", \"Giỏi\", \"Xuất sắc\"],\n",
    "                      rowColours=colors,\n",
    "                      colLabels=[\"<2 giờ\", \"2 - 5 giờ\",\"5 - 10 giờ\",\">10 giờ\"],\n",
    "                      loc='bottom')\n",
    "\n",
    "colors = colors[::-1]\n",
    "\n",
    "plt.subplots_adjust(left=0.2, bottom=0.2)\n",
    "\n",
    "plt.xticks([])\n",
    "plt.title('Số lượng học sinh của từng phân loại học lực theo mức thời gian học')\n",
    "plt.ylabel(\"số lượng học sinh\")\n",
    "\n",
    "plt.show()"
   ]
  },
  {
   "cell_type": "markdown",
   "metadata": {},
   "source": [
    "Nhận xét:\n",
    "- Không có học sinh có điểm toán loại yếu nào học toán >10h một tuần\n",
    "\n",
    "=> Bổ sung thêm thông tin cho kết luận tổng quát, bỏ nhiều thời gian học thì điểm càng cao\n",
    "- Số lượng học sinh lựa chọn học toán từ 2-5h mỗi tuần là nhiều nhất và số lượng đạt được điểm khá và giỏi cũng cao nhất\n",
    "\n",
    "=> \"Có thể\" 2-5h mỗi tuần là đủ để học toán\n",
    "- Số lượng học sinh có điểm toán loại xuất sắc giảm dần theo độ tăng mức thời gian học\n",
    "\n",
    "=> Không hẳn học càng nhiều là càng tốt (14/21 học sinh có điểm toán xuất sắc học toán ở mức <2h và 2-5h)"
   ]
  },
  {
   "cell_type": "markdown",
   "metadata": {},
   "source": [
    "Tiếp theo, ta xem xét chi tiết độ phân bố học lực theo mức thời gian học bằng biểu đồ tròn (pie chart):\n",
    "- Tính phần trăm giá trị xuất hiện của các phân loại theo từng mức thời gian học\n",
    "- Vẽ biểu đồ multi pie chart"
   ]
  },
  {
   "cell_type": "code",
   "execution_count": 17,
   "metadata": {},
   "outputs": [
    {
     "data": {
      "text/html": [
       "<div>\n",
       "<style scoped>\n",
       "    .dataframe tbody tr th:only-of-type {\n",
       "        vertical-align: middle;\n",
       "    }\n",
       "\n",
       "    .dataframe tbody tr th {\n",
       "        vertical-align: top;\n",
       "    }\n",
       "\n",
       "    .dataframe thead th {\n",
       "        text-align: right;\n",
       "    }\n",
       "</style>\n",
       "<table border=\"1\" class=\"dataframe\">\n",
       "  <thead>\n",
       "    <tr style=\"text-align: right;\">\n",
       "      <th></th>\n",
       "      <th>&lt;2 h</th>\n",
       "      <th>2 to 5 h</th>\n",
       "      <th>5 to 10 h</th>\n",
       "      <th>&gt;10 h</th>\n",
       "    </tr>\n",
       "  </thead>\n",
       "  <tbody>\n",
       "    <tr>\n",
       "      <th>Yếu</th>\n",
       "      <td>0.057143</td>\n",
       "      <td>0.015152</td>\n",
       "      <td>0.015385</td>\n",
       "      <td>NaN</td>\n",
       "    </tr>\n",
       "    <tr>\n",
       "      <th>Trung Bình</th>\n",
       "      <td>0.123810</td>\n",
       "      <td>0.121212</td>\n",
       "      <td>0.076923</td>\n",
       "      <td>0.111111</td>\n",
       "    </tr>\n",
       "    <tr>\n",
       "      <th>Khá</th>\n",
       "      <td>0.571429</td>\n",
       "      <td>0.661616</td>\n",
       "      <td>0.476923</td>\n",
       "      <td>0.555556</td>\n",
       "    </tr>\n",
       "    <tr>\n",
       "      <th>Giỏi</th>\n",
       "      <td>0.180952</td>\n",
       "      <td>0.166667</td>\n",
       "      <td>0.353846</td>\n",
       "      <td>0.222222</td>\n",
       "    </tr>\n",
       "    <tr>\n",
       "      <th>Xuất sắc</th>\n",
       "      <td>0.066667</td>\n",
       "      <td>0.035354</td>\n",
       "      <td>0.076923</td>\n",
       "      <td>0.111111</td>\n",
       "    </tr>\n",
       "  </tbody>\n",
       "</table>\n",
       "</div>"
      ],
      "text/plain": [
       "                <2 h  2 to 5 h  5 to 10 h     >10 h\n",
       "Yếu         0.057143  0.015152   0.015385       NaN\n",
       "Trung Bình  0.123810  0.121212   0.076923  0.111111\n",
       "Khá         0.571429  0.661616   0.476923  0.555556\n",
       "Giỏi        0.180952  0.166667   0.353846  0.222222\n",
       "Xuất sắc    0.066667  0.035354   0.076923  0.111111"
      ]
     },
     "execution_count": 17,
     "metadata": {},
     "output_type": "execute_result"
    }
   ],
   "source": [
    "result = pd.DataFrame(index=[0,1,2,3,4])\n",
    "for i in range(1,5):\n",
    "    result[i] = (df[df['studytime']==i]['score'].value_counts(normalize=True))\n",
    "result = result.rename(index={0: \"Yếu\", 1: \"Trung Bình\", 2: \"Khá\", 3:\"Giỏi\", 4:\"Xuất sắc\"})\n",
    "result = result.rename(columns={1:\"<2 h\",2: \"2 to 5 h\",3:\"5 to 10 h\",4:\">10 h\"})\n",
    "result"
   ]
  },
  {
   "cell_type": "code",
   "execution_count": 18,
   "metadata": {},
   "outputs": [
    {
     "data": {
      "text/plain": [
       "array([<AxesSubplot:ylabel='<2 h'>, <AxesSubplot:ylabel='2 to 5 h'>,\n",
       "       <AxesSubplot:ylabel='5 to 10 h'>, <AxesSubplot:ylabel='>10 h'>],\n",
       "      dtype=object)"
      ]
     },
     "execution_count": 18,
     "metadata": {},
     "output_type": "execute_result"
    },
    {
     "data": {
      "image/png": "[encoded data removed]",
      "text/plain": [
       "<Figure size 1440x1440 with 4 Axes>"
      ]
     },
     "metadata": {},
     "output_type": "display_data"
    }
   ],
   "source": [
    "result.plot.pie(subplots=True, figsize=(20,20))"
   ]
  },
  {
   "cell_type": "markdown",
   "metadata": {},
   "source": [
    "Nhận xét:\n",
    "- Số lượng điểm khá luôn chiếm phần lớn với mọi mức thời gian\n",
    "- Phần trăm điểm giỏi tăng mạnh ở mức thời gian 5-10h. Song, phần trăm khá cũng giảm tương đương\n",
    "\n",
    "=> Đổi mức thời gian học từ 2-5h -> 5-10h sẽ giúp học sinh có điểm toán khá cải thiện thành tích đáng kể \n",
    "- Phần trăm điểm trung bình + điểm yếu có vẻ giảm dần theo độ tăng mức thời gian"
   ]
  },
  {
   "cell_type": "markdown",
   "metadata": {},
   "source": [
    "Từ các nhận xét, ta có kết luận:\n",
    "1. Thời gian học càng lớn thì khả năng bị điểm kém sẽ càng giảm \n",
    "2. Mức 1 và 2 là khoảng thời gian tương đối đủ tiếp thu môn toán\n",
    "3. Nếu đang có điểm toán khá hãy thử tăng thời gian học lên mức 3 (5-10h mỗi tuần)\n",
    "4. Đối với các cá nhân muốn có điểm toán xuất sắc, bỏ ra nhiều thời gian thôi chưa đủ !"
   ]
  },
  {
   "cell_type": "markdown",
   "metadata": {},
   "source": [
    "### Câu hỏi 2: Đâu là những đặc điểm dễ nhận thấy của học sinh có thành tích tốt?"
   ]
  },
  {
   "cell_type": "markdown",
   "metadata": {},
   "source": [
    "Việc trả lời câu hỏi này sẽ giúp ích cho cả học sinh lẫn giáo viên\n",
    "\n",
    "- Học sinh: với những đặc điểm mà học sinh có thể điều chỉnh, nhằm nâng cao thành tích của mình thì học sinh cần xem xét để có thể điều chỉnh cho phù hợp. Còn với những đặc điểm không thay đổi được ví dụ như nghề nghiệp bố mẹ,... thì chỉ mang tính chất tham khảo\n",
    "- Giáo viên: Với giáo viên hay bất cứ người nào quan sát kết quả phân tích dữ liệu, đều có thể dự đoán được khả năng của từng học sinh dựa trên đặc điểm của từng học sinh và đặc điểm dễ nhận thấy ở những học sinh có thành tích tốt"
   ]
  },
  {
   "cell_type": "markdown",
   "metadata": {},
   "source": [
    "#### Tiền xử lý dữ liệu"
   ]
  },
  {
   "cell_type": "markdown",
   "metadata": {},
   "source": [
    "Ta cần tìm ra 6 thuộc tính mà điểm số `score` phụ thuộc vào nhiều nhất, từ đó mới tiến hành phân tích để tìm ra đặc điểm dễ nhận thấy (chiếm đại đa số) trong từng thuộc tính.\n",
    "\n",
    "Tại sao lại **6** thuộc tính? Ta không thể phân tích tất cả các thuộc tính. Chúng ta chỉ phân tích những biến tương quan với điểm số `score` nhất. Ta chọn **6**, vì nó vừa đáp ứng tiêu chí chỉ chọn một vài biến tương quan nhất với `score`, vừa có thể trình bày đẹp, cân xứng ở bước vẽ đồ thị bên dưới.\n"
   ]
  },
  {
   "cell_type": "markdown",
   "metadata": {},
   "source": [
    "Các bước tiền xử lý dữ liệu\n",
    "\n",
    "- Bước 1: Tính tỷ số tương quan `Correlation Ratio` và chọn ra **6** thuộc tính (cột) có tỷ số tương quan lớn nhất. Tại sao lại tính tỷ số tương quan mà không phải là hệ số tương quan? Các biến ở đây bao gồm và biến numeric và categorical vậy nên ta không thể áp dụng công thức hệ số tương quan Pearson, Kendall, hay Spearman. May thay ta tìm được một giải pháp thay thế đó là tính tỷ số tương quan `Correlation Ratio`. Tuy nhiên tỷ số tương quan `Correlation Ratio` chỉ có thể đánh giá mối quan hệ chặt chẽ giữa các biến chứ không thể xác định được chiều hướng của mỗi quan hệ như hệ số tương quan.\n",
    "- Bước 2: Ta chọn ra những học sinh có thành tích tốt (điểm thuộc loại `Giỏi` được đánh giá theo tiêu chí `score` >=40 điểm ở trên) và lưu vào DataFrame `top_corr_df`"
   ]
  },
  {
   "cell_type": "markdown",
   "metadata": {},
   "source": [
    "Bước 1: Tính tỷ số tương quan `Correlation Ratio` và chọn ra 6 thuộc tính (cột) có tỷ số tương quan lớn nhất."
   ]
  },
  {
   "cell_type": "markdown",
   "metadata": {},
   "source": [
    "Hàm tính Correlation Ratio"
   ]
  },
  {
   "cell_type": "code",
   "execution_count": 167,
   "metadata": {},
   "outputs": [],
   "source": [
    "def correlation_ratio(categories, measurements):\n",
    "    id_cat = np.unique(categories, return_inverse=True)[1]\n",
    "    \n",
    "    ssa = 0\n",
    "    ssb = 0\n",
    "    for i in np.unique(id_cat):\n",
    "        sub = measurements[np.argwhere(id_cat == i).flatten()]\n",
    "        ssa += np.sum((sub - np.mean(sub)) ** 2)\n",
    "        ssb += len(sub) * (np.mean(sub) - np.mean(measurements)) ** 2\n",
    "\n",
    "    return np.sqrt(ssb / (ssb + ssa))"
   ]
  },
  {
   "cell_type": "markdown",
   "metadata": {},
   "source": [
    "Tính tỷ số tương quan `Correlation Ratio` cho từng cột và chọn ra **6** thuộc tính (cột) có tỷ số tương quan lớn nhất"
   ]
  },
  {
   "cell_type": "code",
   "execution_count": 168,
   "metadata": {},
   "outputs": [
    {
     "data": {
      "text/plain": [
       "['failures', 'absences', 'Medu', 'Mjob', 'Fedu', 'higher']"
      ]
     },
     "execution_count": 168,
     "metadata": {},
     "output_type": "execute_result"
    }
   ],
   "source": [
    "corr_columns = mat_df.apply(correlation_ratio, measurements=mat_df['score']).\\\n",
    "    sort_values(ascending=False).iloc[4:10].index.tolist()\n",
    "corr_columns"
   ]
  },
  {
   "cell_type": "markdown",
   "metadata": {},
   "source": [
    "Bước 2: Từ dữ liệu ban đầu `mat_df`, ta chọn ra những học sinh có thành tích tốt (điểm `score` >= 40) lưu vào DataFrame `top_corr_df`"
   ]
  },
  {
   "cell_type": "code",
   "execution_count": 170,
   "metadata": {},
   "outputs": [
    {
     "data": {
      "text/html": [
       "<div>\n",
       "<style scoped>\n",
       "    .dataframe tbody tr th:only-of-type {\n",
       "        vertical-align: middle;\n",
       "    }\n",
       "\n",
       "    .dataframe tbody tr th {\n",
       "        vertical-align: top;\n",
       "    }\n",
       "\n",
       "    .dataframe thead th {\n",
       "        text-align: right;\n",
       "    }\n",
       "</style>\n",
       "<table border=\"1\" class=\"dataframe\">\n",
       "  <thead>\n",
       "    <tr style=\"text-align: right;\">\n",
       "      <th></th>\n",
       "      <th>failures</th>\n",
       "      <th>absences</th>\n",
       "      <th>Medu</th>\n",
       "      <th>Mjob</th>\n",
       "      <th>Fedu</th>\n",
       "      <th>higher</th>\n",
       "    </tr>\n",
       "  </thead>\n",
       "  <tbody>\n",
       "    <tr>\n",
       "      <th>3</th>\n",
       "      <td>0</td>\n",
       "      <td>2</td>\n",
       "      <td>4</td>\n",
       "      <td>health</td>\n",
       "      <td>2</td>\n",
       "      <td>yes</td>\n",
       "    </tr>\n",
       "    <tr>\n",
       "      <th>5</th>\n",
       "      <td>0</td>\n",
       "      <td>10</td>\n",
       "      <td>4</td>\n",
       "      <td>services</td>\n",
       "      <td>3</td>\n",
       "      <td>yes</td>\n",
       "    </tr>\n",
       "    <tr>\n",
       "      <th>8</th>\n",
       "      <td>0</td>\n",
       "      <td>0</td>\n",
       "      <td>3</td>\n",
       "      <td>services</td>\n",
       "      <td>2</td>\n",
       "      <td>yes</td>\n",
       "    </tr>\n",
       "    <tr>\n",
       "      <th>9</th>\n",
       "      <td>0</td>\n",
       "      <td>0</td>\n",
       "      <td>3</td>\n",
       "      <td>other</td>\n",
       "      <td>4</td>\n",
       "      <td>yes</td>\n",
       "    </tr>\n",
       "    <tr>\n",
       "      <th>12</th>\n",
       "      <td>0</td>\n",
       "      <td>2</td>\n",
       "      <td>4</td>\n",
       "      <td>health</td>\n",
       "      <td>4</td>\n",
       "      <td>yes</td>\n",
       "    </tr>\n",
       "  </tbody>\n",
       "</table>\n",
       "</div>"
      ],
      "text/plain": [
       "    failures  absences  Medu      Mjob  Fedu higher\n",
       "3          0         2     4    health     2    yes\n",
       "5          0        10     4  services     3    yes\n",
       "8          0         0     3  services     2    yes\n",
       "9          0         0     3     other     4    yes\n",
       "12         0         2     4    health     4    yes"
      ]
     },
     "execution_count": 170,
     "metadata": {},
     "output_type": "execute_result"
    }
   ],
   "source": [
    "top_corr_df = mat_df.loc[mat_df.score>=40][corr_columns]\n",
    "top_corr_df.head()"
   ]
  },
  {
   "cell_type": "markdown",
   "metadata": {},
   "source": [
    "#### Phân tích dữ liệu"
   ]
  },
  {
   "cell_type": "markdown",
   "metadata": {},
   "source": [
    "Từ các thuộc tính (cột) được chọn, ta cần tìm ra những đặc điểm dễ thấy trong các thuộc tính (cột) đó.\n",
    "\n",
    "Các bước phân tích dữ liệu:\n",
    "- Bước 1: Với mỗi thuộc tính (cột) trong DataFrame `top_corr_df` ta tìm tần suất xuất hiện của các giá trị ở từng thuộc tính `cột`. Mục đích của việc này là giúp ta có thể xác định nhanh giá trị nào trong mỗi thuộc tính (cột) chiếm ưu thế, đại đa số\n",
    "- Bước 2: Vẽ biểu đồ thể hiện tần suất xuất hiện các giá trị ở từng cột"
   ]
  },
  {
   "cell_type": "markdown",
   "metadata": {},
   "source": [
    "Bước 1: Với mỗi thuộc tính (cột) trong DataFrame `top_corr_df`, ta tìm tần suất xuất hiện của các giá trị ở từng thuộc tính `cột`"
   ]
  },
  {
   "cell_type": "code",
   "execution_count": 165,
   "metadata": {},
   "outputs": [],
   "source": [
    "value = []\n",
    "freq = []\n",
    "for i in range(len(corr_columns)):\n",
    "    value.append(top_corr_df.iloc[:,i].value_counts().index.values)\n",
    "    freq.append(top_corr_df.iloc[:,i].value_counts().values)"
   ]
  },
  {
   "cell_type": "markdown",
   "metadata": {},
   "source": [
    "Bước 2: Vẽ biểu đồ thể hiện tần suất xuất hiện các giá trị ở từng cột"
   ]
  },
  {
   "cell_type": "code",
   "execution_count": 171,
   "metadata": {},
   "outputs": [
    {
     "data": {
      "image/png": "[encoded data removed]",
      "text/plain": [
       "<Figure size 1440x720 with 6 Axes>"
      ]
     },
     "metadata": {
      "needs_background": "light"
     },
     "output_type": "display_data"
    }
   ],
   "source": [
    "max_rows = 3\n",
    "max_columns = 2\n",
    "figure, axis = plt.subplots(max_rows, max_columns)\n",
    "figure.set_figheight(10)\n",
    "figure.set_figwidth(20)\n",
    "\n",
    "k = 0\n",
    "for i in range(max_rows):\n",
    "    for j in range(max_columns):\n",
    "        if k >= len(corr_columns):\n",
    "            break\n",
    "        axis[i, j].bar(value[k], freq[k])\n",
    "        axis[i, j].set_title(columns[k])\n",
    "        k = k + 1"
   ]
  },
  {
   "cell_type": "markdown",
   "metadata": {},
   "source": [
    "#### Trả lời câu hỏi"
   ]
  },
  {
   "cell_type": "markdown",
   "metadata": {},
   "source": [
    "Từ kết quả phân tích trên, ta có thể đưa ra một số nhận định như sau:\n",
    "\n",
    "- Những học sinh có thành tích tốt, đa số **chưa từng rớt** một lớp học nào trong quá khứ. Một bộ phận tiểu số rớt từ 1-2 lớp, có thể sau thất bại họ đã có ý chí vươn lên để đạt được kết quả như hiện nay\n",
    "- Những học sinh có thành tích tốt thường **ít vắng học** trên lớp\n",
    "- Những học sinh có thành tích tốt thường có **bố mẹ đạt trình độ học vấn higher education**. Việc bố mẹ có trình độ học vấn càng cao, có vẻ đã ảnh hưởng đến việc đạt học tập của con cái, qua ý thức, cách nuôi dạy từ nhỏ?. Nhưng cũng không thể nói rằng việc bố mẹ có trình độ học vấn không cao sẽ ảnh hưởng đến thành tích học tập của các con\n",
    "- Những học sinh có thành tích tốt thường có **nghề nghiệp của mẹ là services** (trong civil services - theo mô tả dữ liệu, ví dụ như administrative hoặc police), điều này có thể xem xét là một yếu tố thuộc về truyền thống gia đình?\n",
    "- Những học sinh có thành tích học tập tốt đều có ý định **học lên cao**. Có vẻ như không có ai muốn dừng việc học tập trong khi đạt được thành tích tốt như hiện tại."
   ]
  },
  {
   "cell_type": "markdown",
   "metadata": {},
   "source": [
    "## Nhìn lại quá trình làm đồ án"
   ]
  },
  {
   "cell_type": "markdown",
   "metadata": {},
   "source": [
    "### Mỗi thành viên đã gặp những khó khăn gì?"
   ]
  },
  {
   "cell_type": "markdown",
   "metadata": {},
   "source": [
    "- Gia Minh:\n",
    "- Việt Cường:"
   ]
  },
  {
   "cell_type": "markdown",
   "metadata": {},
   "source": [
    "### Mỗi thành viên học được những gì hữu ích?"
   ]
  },
  {
   "cell_type": "markdown",
   "metadata": {},
   "source": [
    "- Gia Minh:\n",
    "- Việt Cường:"
   ]
  },
  {
   "cell_type": "markdown",
   "metadata": {},
   "source": [
    "### Nếu có thời gian, nhóm sẽ làm gì?"
   ]
  },
  {
   "cell_type": "markdown",
   "metadata": {},
   "source": [
    "- Something"
   ]
  },
  {
   "cell_type": "markdown",
   "metadata": {},
   "source": [
    "## Tài liệu tham khảo"
   ]
  },
  {
   "cell_type": "markdown",
   "metadata": {},
   "source": [
    "- https://towardsdatascience.com/the-search-for-categorical-correlation-a1cf7f1888c9"
   ]
  }
 ],
 "metadata": {
  "interpreter": {
   "hash": "4523760acd2e98ea694316eb0cd84f0969f99d1a04363ebd38b8ee985ea4f03e"
  },
  "kernelspec": {
   "display_name": "Python 3 (ipykernel)",
   "language": "python",
   "name": "python3"
  },
  "language_info": {
   "codemirror_mode": {
    "name": "ipython",
    "version": 3
   },
   "file_extension": ".py",
   "mimetype": "text/x-python",
   "name": "python",
   "nbconvert_exporter": "python",
   "pygments_lexer": "ipython3",
   "version": "3.8.8"
  }
 },
 "nbformat": 4,
 "nbformat_minor": 2
}
