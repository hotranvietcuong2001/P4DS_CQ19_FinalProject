{
 "cells": [
  {
   "cell_type": "markdown",
   "metadata": {},
   "source": [
    "## Import các thư viện cần thiết"
   ]
  },
  {
   "cell_type": "code",
   "execution_count": 1,
   "metadata": {},
   "outputs": [],
   "source": [
    "import pandas as pd\n",
    "import numpy as np\n",
    "import matplotlib.pyplot as plt"
   ]
  },
  {
   "cell_type": "markdown",
   "metadata": {},
   "source": [
    "---"
   ]
  },
  {
   "cell_type": "markdown",
   "metadata": {},
   "source": [
    "## Thu thập dữ liệu"
   ]
  },
  {
   "cell_type": "markdown",
   "metadata": {},
   "source": [
    "Ta dùng bộ dữ liệu được thu thập sẵn, lấy ở trang archive.ics.uci.edu qua đường link [tại đây](https://archive.ics.uci.edu/ml/datasets/Student+Performance)."
   ]
  },
  {
   "cell_type": "markdown",
   "metadata": {},
   "source": [
    "Ta được phép sử dụng bộ dữ liệu này cho mục đích học tập."
   ]
  },
  {
   "cell_type": "markdown",
   "metadata": {},
   "source": [
    "Trích dẫn:\n",
    "> P. Cortez and A. Silva. Using Data Mining to Predict Secondary School Student Performance. In A. Brito and J. Teixeira Eds., Proceedings of 5th FUture BUsiness TEChnology Conference (FUBUTEC 2008) pp. 5-12, Porto, Portugal, April, 2008, EUROSIS, ISBN 978-9077381-39-7."
   ]
  },
  {
   "cell_type": "markdown",
   "metadata": {},
   "source": [
    "Theo mô tả dữ liệu:\n",
    "> This data approach student achievement in secondary education of two Portuguese schools. The data attributes include student grades, demographic, social and school related features) and it was collected by using school reports and questionnaires. Two datasets are provided regarding the performance in two distinct subjects: Mathematics (mat) and Portuguese language (por). In [Cortez and Silva, 2008], the two datasets were modeled under binary/five-level classification and regression tasks. Important note: the target attribute G3 has a strong correlation with attributes G2 and G1. This occurs because G3 is the final year grade (issued at the 3rd period), while G1 and G2 correspond to the 1st and 2nd period grades. It is more difficult to predict G3 without G2 and G1, but such prediction is much more useful (see paper source for more details)."
   ]
  },
  {
   "cell_type": "markdown",
   "metadata": {},
   "source": [
    "Trong bài này, vì môn `Mathematics` và `Portuguese` không liên quan đến nhau nên ta chỉ sử dụng bộ dữ liệu thể hiện `Performance Student` trong môn học `Mathematics`"
   ]
  },
  {
   "cell_type": "markdown",
   "metadata": {},
   "source": [
    "---"
   ]
  },
  {
   "cell_type": "markdown",
   "metadata": {},
   "source": [
    "## Khám phá dữ liệu"
   ]
  },
  {
   "cell_type": "markdown",
   "metadata": {},
   "source": [
    "### Đọc dữ liệu từ file csv vào dataframe"
   ]
  },
  {
   "cell_type": "code",
   "execution_count": 2,
   "metadata": {},
   "outputs": [
    {
     "data": {
      "text/html": [
       "<div>\n",
       "<style scoped>\n",
       "    .dataframe tbody tr th:only-of-type {\n",
       "        vertical-align: middle;\n",
       "    }\n",
       "\n",
       "    .dataframe tbody tr th {\n",
       "        vertical-align: top;\n",
       "    }\n",
       "\n",
       "    .dataframe thead th {\n",
       "        text-align: right;\n",
       "    }\n",
       "</style>\n",
       "<table border=\"1\" class=\"dataframe\">\n",
       "  <thead>\n",
       "    <tr style=\"text-align: right;\">\n",
       "      <th></th>\n",
       "      <th>school</th>\n",
       "      <th>sex</th>\n",
       "      <th>age</th>\n",
       "      <th>address</th>\n",
       "      <th>famsize</th>\n",
       "      <th>Pstatus</th>\n",
       "      <th>Medu</th>\n",
       "      <th>Fedu</th>\n",
       "      <th>Mjob</th>\n",
       "      <th>Fjob</th>\n",
       "      <th>...</th>\n",
       "      <th>famrel</th>\n",
       "      <th>freetime</th>\n",
       "      <th>goout</th>\n",
       "      <th>Dalc</th>\n",
       "      <th>Walc</th>\n",
       "      <th>health</th>\n",
       "      <th>absences</th>\n",
       "      <th>G1</th>\n",
       "      <th>G2</th>\n",
       "      <th>G3</th>\n",
       "    </tr>\n",
       "  </thead>\n",
       "  <tbody>\n",
       "    <tr>\n",
       "      <th>0</th>\n",
       "      <td>GP</td>\n",
       "      <td>F</td>\n",
       "      <td>18</td>\n",
       "      <td>U</td>\n",
       "      <td>GT3</td>\n",
       "      <td>A</td>\n",
       "      <td>4</td>\n",
       "      <td>4</td>\n",
       "      <td>at_home</td>\n",
       "      <td>teacher</td>\n",
       "      <td>...</td>\n",
       "      <td>4</td>\n",
       "      <td>3</td>\n",
       "      <td>4</td>\n",
       "      <td>1</td>\n",
       "      <td>1</td>\n",
       "      <td>3</td>\n",
       "      <td>6</td>\n",
       "      <td>5</td>\n",
       "      <td>6</td>\n",
       "      <td>6</td>\n",
       "    </tr>\n",
       "    <tr>\n",
       "      <th>1</th>\n",
       "      <td>GP</td>\n",
       "      <td>F</td>\n",
       "      <td>17</td>\n",
       "      <td>U</td>\n",
       "      <td>GT3</td>\n",
       "      <td>T</td>\n",
       "      <td>1</td>\n",
       "      <td>1</td>\n",
       "      <td>at_home</td>\n",
       "      <td>other</td>\n",
       "      <td>...</td>\n",
       "      <td>5</td>\n",
       "      <td>3</td>\n",
       "      <td>3</td>\n",
       "      <td>1</td>\n",
       "      <td>1</td>\n",
       "      <td>3</td>\n",
       "      <td>4</td>\n",
       "      <td>5</td>\n",
       "      <td>5</td>\n",
       "      <td>6</td>\n",
       "    </tr>\n",
       "    <tr>\n",
       "      <th>2</th>\n",
       "      <td>GP</td>\n",
       "      <td>F</td>\n",
       "      <td>15</td>\n",
       "      <td>U</td>\n",
       "      <td>LE3</td>\n",
       "      <td>T</td>\n",
       "      <td>1</td>\n",
       "      <td>1</td>\n",
       "      <td>at_home</td>\n",
       "      <td>other</td>\n",
       "      <td>...</td>\n",
       "      <td>4</td>\n",
       "      <td>3</td>\n",
       "      <td>2</td>\n",
       "      <td>2</td>\n",
       "      <td>3</td>\n",
       "      <td>3</td>\n",
       "      <td>10</td>\n",
       "      <td>7</td>\n",
       "      <td>8</td>\n",
       "      <td>10</td>\n",
       "    </tr>\n",
       "    <tr>\n",
       "      <th>3</th>\n",
       "      <td>GP</td>\n",
       "      <td>F</td>\n",
       "      <td>15</td>\n",
       "      <td>U</td>\n",
       "      <td>GT3</td>\n",
       "      <td>T</td>\n",
       "      <td>4</td>\n",
       "      <td>2</td>\n",
       "      <td>health</td>\n",
       "      <td>services</td>\n",
       "      <td>...</td>\n",
       "      <td>3</td>\n",
       "      <td>2</td>\n",
       "      <td>2</td>\n",
       "      <td>1</td>\n",
       "      <td>1</td>\n",
       "      <td>5</td>\n",
       "      <td>2</td>\n",
       "      <td>15</td>\n",
       "      <td>14</td>\n",
       "      <td>15</td>\n",
       "    </tr>\n",
       "    <tr>\n",
       "      <th>4</th>\n",
       "      <td>GP</td>\n",
       "      <td>F</td>\n",
       "      <td>16</td>\n",
       "      <td>U</td>\n",
       "      <td>GT3</td>\n",
       "      <td>T</td>\n",
       "      <td>3</td>\n",
       "      <td>3</td>\n",
       "      <td>other</td>\n",
       "      <td>other</td>\n",
       "      <td>...</td>\n",
       "      <td>4</td>\n",
       "      <td>3</td>\n",
       "      <td>2</td>\n",
       "      <td>1</td>\n",
       "      <td>2</td>\n",
       "      <td>5</td>\n",
       "      <td>4</td>\n",
       "      <td>6</td>\n",
       "      <td>10</td>\n",
       "      <td>10</td>\n",
       "    </tr>\n",
       "  </tbody>\n",
       "</table>\n",
       "<p>5 rows × 33 columns</p>\n",
       "</div>"
      ],
      "text/plain": [
       "  school sex  age address famsize Pstatus  Medu  Fedu     Mjob      Fjob  ...  \\\n",
       "0     GP   F   18       U     GT3       A     4     4  at_home   teacher  ...   \n",
       "1     GP   F   17       U     GT3       T     1     1  at_home     other  ...   \n",
       "2     GP   F   15       U     LE3       T     1     1  at_home     other  ...   \n",
       "3     GP   F   15       U     GT3       T     4     2   health  services  ...   \n",
       "4     GP   F   16       U     GT3       T     3     3    other     other  ...   \n",
       "\n",
       "  famrel freetime  goout  Dalc  Walc health absences  G1  G2  G3  \n",
       "0      4        3      4     1     1      3        6   5   6   6  \n",
       "1      5        3      3     1     1      3        4   5   5   6  \n",
       "2      4        3      2     2     3      3       10   7   8  10  \n",
       "3      3        2      2     1     1      5        2  15  14  15  \n",
       "4      4        3      2     1     2      5        4   6  10  10  \n",
       "\n",
       "[5 rows x 33 columns]"
      ]
     },
     "execution_count": 2,
     "metadata": {},
     "output_type": "execute_result"
    }
   ],
   "source": [
    "mat_df = pd.read_csv(\"student-mat.csv\", delimiter=';')\n",
    "mat_df.head()"
   ]
  },
  {
   "cell_type": "markdown",
   "metadata": {},
   "source": [
    "### Dữ liệu gồm bao nhiều dòng, bao nhiêu cột?"
   ]
  },
  {
   "cell_type": "code",
   "execution_count": 3,
   "metadata": {},
   "outputs": [
    {
     "name": "stdout",
     "output_type": "stream",
     "text": [
      "Số dòng:  395\n",
      "Số cột:  33\n"
     ]
    }
   ],
   "source": [
    "num_rows = mat_df.shape[0]\n",
    "num_cols = mat_df.shape[1]\n",
    "print('Số dòng: ', num_rows)\n",
    "print('Số cột: ', num_cols)"
   ]
  },
  {
   "cell_type": "markdown",
   "metadata": {},
   "source": [
    "### Mỗi dòng có ý nghĩa gì? Có vấn đề các dòng có ý nghĩa khác nhau không?"
   ]
  },
  {
   "cell_type": "markdown",
   "metadata": {},
   "source": [
    "Mỗi dòng tương ứng với thông tin (thông tin cá nhân, điểm) của một học sinh tham gia lớp Toán của hai trường được thu thập dữ liệu. Có vẻ như không xảy ra các dòng có ý nghĩa khác nhau"
   ]
  },
  {
   "cell_type": "markdown",
   "metadata": {},
   "source": [
    "### Dữ liệu có các dòng bị lặp không?"
   ]
  },
  {
   "cell_type": "code",
   "execution_count": 4,
   "metadata": {},
   "outputs": [
    {
     "name": "stdout",
     "output_type": "stream",
     "text": [
      "Không có dòng lặp\n"
     ]
    }
   ],
   "source": [
    "duplicated_rows = mat_df.duplicated().sum()\n",
    "if duplicated_rows > 0:\n",
    "    print(\"Số dòng lặp: \", duplicated_rows)\n",
    "else:\n",
    "    print(\"Không có dòng lặp\")"
   ]
  },
  {
   "cell_type": "markdown",
   "metadata": {},
   "source": [
    "Vậy là không có dòng lặp bị lặp trong bộ dữ liệu"
   ]
  },
  {
   "cell_type": "markdown",
   "metadata": {},
   "source": [
    "### Mỗi cột có ý nghĩa gì?"
   ]
  },
  {
   "cell_type": "markdown",
   "metadata": {},
   "source": [
    "Dưới đây là phần mô tả dữ liệu trong file `student.txt` về các cột trong file dữ liệu \"student-mat.csv\""
   ]
  },
  {
   "cell_type": "markdown",
   "metadata": {},
   "source": [
    "- **school**: student's school (binary: 'GP' - Gabriel Pereira or 'MS' - Mousinho da Silveira)\n",
    "- **sex**: student's sex (binary: 'F' - female or 'M' - male)\n",
    "- **age**: student's age (numeric: from 15 to 22)\n",
    "- **address**: student's home address type (binary: 'U' - urban or 'R' - rural)\n",
    "- **famsize**: family size (binary: 'LE3' - less or equal to 3 or 'GT3' - greater than 3)\n",
    "- **Pstatus**: parent's cohabitation status (binary: 'T' - living together or 'A' - apart)\n",
    "- **Medu**: mother's education (numeric: 0 - none, 1 - primary education (4th grade), 2 â€“ 5th to 9th grade, 3 â€“ secondary education or 4 â€“ higher education)\n",
    "- **Fedu**: father's education (numeric: 0 - none, 1 - primary education (4th grade), 2 â€“ 5th to 9th grade, 3 â€“ secondary education or 4 â€“ higher education)\n",
    "- **Mjob**: mother's job (nominal: 'teacher', 'health' care related, civil 'services' (e.g. administrative or police), 'at_home' or 'other')\n",
    "- **Fjob**: father's job (nominal: 'teacher', 'health' care related, civil 'services' (e.g. administrative or police), 'at_home' or 'other')\n",
    "- **reason**: reason to choose this school (nominal: close to 'home', school 'reputation', 'course' preference or 'other')\n",
    "- **guardian**: student's guardian (nominal: 'mother', 'father' or 'other')\n",
    "- **traveltime**: home to school travel time (numeric: 1 - <15 min., 2 - 15 to 30 min., 3 - 30 min. to 1 hour, or 4 - >1 hour)\n",
    "- **studytime**: weekly study time (numeric: 1 - <2 hours, 2 - 2 to 5 hours, 3 - 5 to 10 hours, or 4 - >10 hours)\n",
    "- **failures**: number of past class failures (numeric: n if 1<=n<3, else 4)\n",
    "- **schoolsup**: extra educational support (binary: yes or no)\n",
    "- **famsup**: family educational support (binary: yes or no)\n",
    "- **paid**: extra paid classes within the course subject (Math or Portuguese) (binary: yes or no)\n",
    "- **activities**: extra-curricular activities (binary: yes or no)\n",
    "- **nursery**: attended nursery school (binary: yes or no)\n",
    "- **higher**: wants to take higher education (binary: yes or no)\n",
    "- **internet**: Internet access at home (binary: yes or no)\n",
    "- **romantic**: with a romantic relationship (binary: yes or no)\n",
    "- **famrel**: quality of family relationships (numeric: from 1 - very bad to 5 - excellent)\n",
    "- **freetime**: free time after school (numeric: from 1 - very low to 5 - very high)\n",
    "- **goout**: going out with friends (numeric: from 1 - very low to 5 - very high)\n",
    "- **Dalc**: workday alcohol consumption (numeric: from 1 - very low to 5 - very high)\n",
    "- **Walc**: weekend alcohol consumption (numeric: from 1 - very low to 5 - very high)\n",
    "- **health**: current health status (numeric: from 1 - very bad to 5 - very good)\n",
    "- **absences**: number of school absences (numeric: from 0 to 93)\n",
    "- **G1**: first period grade (numeric: from 0 to 20)\n",
    "- **G2**: second period grade (numeric: from 0 to 20)\n",
    "- **G3**: final grade (numeric: from 0 to 20, output target)"
   ]
  },
  {
   "cell_type": "markdown",
   "metadata": {},
   "source": [
    "### Kiểu dữ liệu của mỗi cột"
   ]
  },
  {
   "cell_type": "code",
   "execution_count": 5,
   "metadata": {},
   "outputs": [
    {
     "data": {
      "text/plain": [
       "school        object\n",
       "sex           object\n",
       "age            int64\n",
       "address       object\n",
       "famsize       object\n",
       "Pstatus       object\n",
       "Medu           int64\n",
       "Fedu           int64\n",
       "Mjob          object\n",
       "Fjob          object\n",
       "reason        object\n",
       "guardian      object\n",
       "traveltime     int64\n",
       "studytime      int64\n",
       "failures       int64\n",
       "schoolsup     object\n",
       "famsup        object\n",
       "paid          object\n",
       "activities    object\n",
       "nursery       object\n",
       "higher        object\n",
       "internet      object\n",
       "romantic      object\n",
       "famrel         int64\n",
       "freetime       int64\n",
       "goout          int64\n",
       "Dalc           int64\n",
       "Walc           int64\n",
       "health         int64\n",
       "absences       int64\n",
       "G1             int64\n",
       "G2             int64\n",
       "G3             int64\n",
       "dtype: object"
      ]
     },
     "execution_count": 5,
     "metadata": {},
     "output_type": "execute_result"
    }
   ],
   "source": [
    "col_dtypes = pd.Series(mat_df.dtypes.array, index = mat_df.columns)\n",
    "col_dtypes "
   ]
  },
  {
   "cell_type": "markdown",
   "metadata": {},
   "source": [
    "### Xem xét sự phù hợp của dữ liệu"
   ]
  },
  {
   "cell_type": "markdown",
   "metadata": {},
   "source": [
    "Theo quan sát trong `col_dtypes` các cột `school`,`sex`,`address`,`famsize`,`Pstatus`,`Mjob`,`Fjob`,`reason`,`guardian`,`schoolsup`,`famsup`,\n",
    "`paid`,`activities`,`nursery`,`higher`,`internet`,`romantic` có kiểu dữ liệu là object"
   ]
  },
  {
   "cell_type": "markdown",
   "metadata": {},
   "source": [
    "Theo mô tả từ file `student.txt`, các cột này chứa kiểu dữ liệu string, nên ta chuyển tất cả các cột này sang kiểu String"
   ]
  },
  {
   "cell_type": "markdown",
   "metadata": {},
   "source": [
    "Thật ra, theo file `student.txt` các cột này chứa các binary hoặc nominal, ta có thể chuyển các dữ liệu về dạng số (0,1,2,...) nếu cần xử lý bằng các thuật toán máy học, để trực quan và dễ quan sát (con người có thể đọc được) thì ta chỉ cần chuyển về dạng string"
   ]
  },
  {
   "cell_type": "code",
   "execution_count": 6,
   "metadata": {},
   "outputs": [
    {
     "data": {
      "text/plain": [
       "school        string\n",
       "sex           string\n",
       "age            int64\n",
       "address       string\n",
       "famsize       string\n",
       "Pstatus       string\n",
       "Medu           int64\n",
       "Fedu           int64\n",
       "Mjob          string\n",
       "Fjob          string\n",
       "reason        string\n",
       "guardian      string\n",
       "traveltime     int64\n",
       "studytime      int64\n",
       "failures       int64\n",
       "schoolsup     string\n",
       "famsup        string\n",
       "paid          string\n",
       "activities    string\n",
       "nursery       string\n",
       "higher        string\n",
       "internet      string\n",
       "romantic      string\n",
       "famrel         int64\n",
       "freetime       int64\n",
       "goout          int64\n",
       "Dalc           int64\n",
       "Walc           int64\n",
       "health         int64\n",
       "absences       int64\n",
       "G1             int64\n",
       "G2             int64\n",
       "G3             int64\n",
       "dtype: object"
      ]
     },
     "execution_count": 6,
     "metadata": {},
     "output_type": "execute_result"
    }
   ],
   "source": [
    "obj = [\"school\",\"sex\",\"address\",\"famsize\",\"Pstatus\",\"Mjob\",\"Fjob\",\"reason\",\"guardian\",\"schoolsup\",\"famsup\",\n",
    "     \"paid\",\"activities\",\"nursery\",\"higher\",\"internet\",\"romantic\"]\n",
    "mat_df[obj] = mat_df[obj].astype(\"string\")\n",
    "mat_df.dtypes"
   ]
  },
  {
   "cell_type": "markdown",
   "metadata": {},
   "source": [
    "### Sự phân bố giá trị của mỗi cột"
   ]
  },
  {
   "cell_type": "markdown",
   "metadata": {},
   "source": [
    "#### Với mỗi cột có kiểu dữ liệu dạng numeric, các giá trị được phân bố như thế nào?"
   ]
  },
  {
   "cell_type": "markdown",
   "metadata": {},
   "source": [
    "Theo mô tả trong file `student.txt`,  các cột được xem là numeric là `age`,`Medu`,`Fedu`,`traveltime`,`studytime`,`failures`,`famrel`,`freetime`,`goout`,`Dalc`,`Walc`,`health`,`absences`,`G1`,`G2`,`G3`"
   ]
  },
  {
   "cell_type": "code",
   "execution_count": 7,
   "metadata": {},
   "outputs": [],
   "source": [
    "numerics = [\"age\",\"Medu\",\"Fedu\",\"traveltime\",\"studytime\",\"failures\",\"famrel\",\"freetime\",\n",
    "           \"goout\",\"Dalc\",\"Walc\",\"health\",\"absences\",\"G1\",\"G2\",\"G3\"]"
   ]
  },
  {
   "cell_type": "markdown",
   "metadata": {},
   "source": [
    "Ta xem xét giá trị thiếu ở các cột"
   ]
  },
  {
   "cell_type": "code",
   "execution_count": 8,
   "metadata": {},
   "outputs": [
    {
     "data": {
      "text/plain": [
       "{'age': 0.0,\n",
       " 'Medu': 0.0,\n",
       " 'Fedu': 0.0,\n",
       " 'traveltime': 0.0,\n",
       " 'studytime': 0.0,\n",
       " 'failures': 0.0,\n",
       " 'famrel': 0.0,\n",
       " 'freetime': 0.0,\n",
       " 'goout': 0.0,\n",
       " 'Dalc': 0.0,\n",
       " 'Walc': 0.0,\n",
       " 'health': 0.0,\n",
       " 'absences': 0.0,\n",
       " 'G1': 0.0,\n",
       " 'G2': 0.0,\n",
       " 'G3': 0.0}"
      ]
     },
     "execution_count": 8,
     "metadata": {},
     "output_type": "execute_result"
    }
   ],
   "source": [
    "num_missing_ratio = {}\n",
    "for numeric in numerics:\n",
    "    num_missing_ratio[numeric] = round(((np.where(pd.isna(mat_df[numeric])==True)[0].size/num_rows)*100),3)\n",
    "num_missing_ratio"
   ]
  },
  {
   "cell_type": "markdown",
   "metadata": {},
   "source": [
    "Vậy không có giá trị thiếu ở các cột !"
   ]
  },
  {
   "cell_type": "markdown",
   "metadata": {},
   "source": [
    "Sử dụng hàm describe để xem sự phân bố của các dữ liệu dạng numeric "
   ]
  },
  {
   "cell_type": "code",
   "execution_count": 9,
   "metadata": {},
   "outputs": [
    {
     "data": {
      "text/html": [
       "<div>\n",
       "<style scoped>\n",
       "    .dataframe tbody tr th:only-of-type {\n",
       "        vertical-align: middle;\n",
       "    }\n",
       "\n",
       "    .dataframe tbody tr th {\n",
       "        vertical-align: top;\n",
       "    }\n",
       "\n",
       "    .dataframe thead th {\n",
       "        text-align: right;\n",
       "    }\n",
       "</style>\n",
       "<table border=\"1\" class=\"dataframe\">\n",
       "  <thead>\n",
       "    <tr style=\"text-align: right;\">\n",
       "      <th></th>\n",
       "      <th>age</th>\n",
       "      <th>Medu</th>\n",
       "      <th>Fedu</th>\n",
       "      <th>traveltime</th>\n",
       "      <th>studytime</th>\n",
       "      <th>failures</th>\n",
       "      <th>famrel</th>\n",
       "      <th>freetime</th>\n",
       "      <th>goout</th>\n",
       "      <th>Dalc</th>\n",
       "      <th>Walc</th>\n",
       "      <th>health</th>\n",
       "      <th>absences</th>\n",
       "      <th>G1</th>\n",
       "      <th>G2</th>\n",
       "      <th>G3</th>\n",
       "    </tr>\n",
       "  </thead>\n",
       "  <tbody>\n",
       "    <tr>\n",
       "      <th>count</th>\n",
       "      <td>395.000000</td>\n",
       "      <td>395.000000</td>\n",
       "      <td>395.000000</td>\n",
       "      <td>395.000000</td>\n",
       "      <td>395.000000</td>\n",
       "      <td>395.000000</td>\n",
       "      <td>395.000000</td>\n",
       "      <td>395.000000</td>\n",
       "      <td>395.000000</td>\n",
       "      <td>395.000000</td>\n",
       "      <td>395.000000</td>\n",
       "      <td>395.000000</td>\n",
       "      <td>395.000000</td>\n",
       "      <td>395.000000</td>\n",
       "      <td>395.000000</td>\n",
       "      <td>395.000000</td>\n",
       "    </tr>\n",
       "    <tr>\n",
       "      <th>mean</th>\n",
       "      <td>16.696203</td>\n",
       "      <td>2.749367</td>\n",
       "      <td>2.521519</td>\n",
       "      <td>1.448101</td>\n",
       "      <td>2.035443</td>\n",
       "      <td>0.334177</td>\n",
       "      <td>3.944304</td>\n",
       "      <td>3.235443</td>\n",
       "      <td>3.108861</td>\n",
       "      <td>1.481013</td>\n",
       "      <td>2.291139</td>\n",
       "      <td>3.554430</td>\n",
       "      <td>5.708861</td>\n",
       "      <td>10.908861</td>\n",
       "      <td>10.713924</td>\n",
       "      <td>10.415190</td>\n",
       "    </tr>\n",
       "    <tr>\n",
       "      <th>std</th>\n",
       "      <td>1.276043</td>\n",
       "      <td>1.094735</td>\n",
       "      <td>1.088201</td>\n",
       "      <td>0.697505</td>\n",
       "      <td>0.839240</td>\n",
       "      <td>0.743651</td>\n",
       "      <td>0.896659</td>\n",
       "      <td>0.998862</td>\n",
       "      <td>1.113278</td>\n",
       "      <td>0.890741</td>\n",
       "      <td>1.287897</td>\n",
       "      <td>1.390303</td>\n",
       "      <td>8.003096</td>\n",
       "      <td>3.319195</td>\n",
       "      <td>3.761505</td>\n",
       "      <td>4.581443</td>\n",
       "    </tr>\n",
       "    <tr>\n",
       "      <th>min</th>\n",
       "      <td>15.000000</td>\n",
       "      <td>0.000000</td>\n",
       "      <td>0.000000</td>\n",
       "      <td>1.000000</td>\n",
       "      <td>1.000000</td>\n",
       "      <td>0.000000</td>\n",
       "      <td>1.000000</td>\n",
       "      <td>1.000000</td>\n",
       "      <td>1.000000</td>\n",
       "      <td>1.000000</td>\n",
       "      <td>1.000000</td>\n",
       "      <td>1.000000</td>\n",
       "      <td>0.000000</td>\n",
       "      <td>3.000000</td>\n",
       "      <td>0.000000</td>\n",
       "      <td>0.000000</td>\n",
       "    </tr>\n",
       "    <tr>\n",
       "      <th>25%</th>\n",
       "      <td>16.000000</td>\n",
       "      <td>2.000000</td>\n",
       "      <td>2.000000</td>\n",
       "      <td>1.000000</td>\n",
       "      <td>1.000000</td>\n",
       "      <td>0.000000</td>\n",
       "      <td>4.000000</td>\n",
       "      <td>3.000000</td>\n",
       "      <td>2.000000</td>\n",
       "      <td>1.000000</td>\n",
       "      <td>1.000000</td>\n",
       "      <td>3.000000</td>\n",
       "      <td>0.000000</td>\n",
       "      <td>8.000000</td>\n",
       "      <td>9.000000</td>\n",
       "      <td>8.000000</td>\n",
       "    </tr>\n",
       "    <tr>\n",
       "      <th>50%</th>\n",
       "      <td>17.000000</td>\n",
       "      <td>3.000000</td>\n",
       "      <td>2.000000</td>\n",
       "      <td>1.000000</td>\n",
       "      <td>2.000000</td>\n",
       "      <td>0.000000</td>\n",
       "      <td>4.000000</td>\n",
       "      <td>3.000000</td>\n",
       "      <td>3.000000</td>\n",
       "      <td>1.000000</td>\n",
       "      <td>2.000000</td>\n",
       "      <td>4.000000</td>\n",
       "      <td>4.000000</td>\n",
       "      <td>11.000000</td>\n",
       "      <td>11.000000</td>\n",
       "      <td>11.000000</td>\n",
       "    </tr>\n",
       "    <tr>\n",
       "      <th>75%</th>\n",
       "      <td>18.000000</td>\n",
       "      <td>4.000000</td>\n",
       "      <td>3.000000</td>\n",
       "      <td>2.000000</td>\n",
       "      <td>2.000000</td>\n",
       "      <td>0.000000</td>\n",
       "      <td>5.000000</td>\n",
       "      <td>4.000000</td>\n",
       "      <td>4.000000</td>\n",
       "      <td>2.000000</td>\n",
       "      <td>3.000000</td>\n",
       "      <td>5.000000</td>\n",
       "      <td>8.000000</td>\n",
       "      <td>13.000000</td>\n",
       "      <td>13.000000</td>\n",
       "      <td>14.000000</td>\n",
       "    </tr>\n",
       "    <tr>\n",
       "      <th>max</th>\n",
       "      <td>22.000000</td>\n",
       "      <td>4.000000</td>\n",
       "      <td>4.000000</td>\n",
       "      <td>4.000000</td>\n",
       "      <td>4.000000</td>\n",
       "      <td>3.000000</td>\n",
       "      <td>5.000000</td>\n",
       "      <td>5.000000</td>\n",
       "      <td>5.000000</td>\n",
       "      <td>5.000000</td>\n",
       "      <td>5.000000</td>\n",
       "      <td>5.000000</td>\n",
       "      <td>75.000000</td>\n",
       "      <td>19.000000</td>\n",
       "      <td>19.000000</td>\n",
       "      <td>20.000000</td>\n",
       "    </tr>\n",
       "  </tbody>\n",
       "</table>\n",
       "</div>"
      ],
      "text/plain": [
       "              age        Medu        Fedu  traveltime   studytime    failures  \\\n",
       "count  395.000000  395.000000  395.000000  395.000000  395.000000  395.000000   \n",
       "mean    16.696203    2.749367    2.521519    1.448101    2.035443    0.334177   \n",
       "std      1.276043    1.094735    1.088201    0.697505    0.839240    0.743651   \n",
       "min     15.000000    0.000000    0.000000    1.000000    1.000000    0.000000   \n",
       "25%     16.000000    2.000000    2.000000    1.000000    1.000000    0.000000   \n",
       "50%     17.000000    3.000000    2.000000    1.000000    2.000000    0.000000   \n",
       "75%     18.000000    4.000000    3.000000    2.000000    2.000000    0.000000   \n",
       "max     22.000000    4.000000    4.000000    4.000000    4.000000    3.000000   \n",
       "\n",
       "           famrel    freetime       goout        Dalc        Walc      health  \\\n",
       "count  395.000000  395.000000  395.000000  395.000000  395.000000  395.000000   \n",
       "mean     3.944304    3.235443    3.108861    1.481013    2.291139    3.554430   \n",
       "std      0.896659    0.998862    1.113278    0.890741    1.287897    1.390303   \n",
       "min      1.000000    1.000000    1.000000    1.000000    1.000000    1.000000   \n",
       "25%      4.000000    3.000000    2.000000    1.000000    1.000000    3.000000   \n",
       "50%      4.000000    3.000000    3.000000    1.000000    2.000000    4.000000   \n",
       "75%      5.000000    4.000000    4.000000    2.000000    3.000000    5.000000   \n",
       "max      5.000000    5.000000    5.000000    5.000000    5.000000    5.000000   \n",
       "\n",
       "         absences          G1          G2          G3  \n",
       "count  395.000000  395.000000  395.000000  395.000000  \n",
       "mean     5.708861   10.908861   10.713924   10.415190  \n",
       "std      8.003096    3.319195    3.761505    4.581443  \n",
       "min      0.000000    3.000000    0.000000    0.000000  \n",
       "25%      0.000000    8.000000    9.000000    8.000000  \n",
       "50%      4.000000   11.000000   11.000000   11.000000  \n",
       "75%      8.000000   13.000000   13.000000   14.000000  \n",
       "max     75.000000   19.000000   19.000000   20.000000  "
      ]
     },
     "execution_count": 9,
     "metadata": {},
     "output_type": "execute_result"
    }
   ],
   "source": [
    "mat_df.describe()"
   ]
  },
  {
   "cell_type": "markdown",
   "metadata": {},
   "source": [
    "Đa số các cột numeric được chuẩn hóa về các số dạng các choice (1,2,3,...) theo khoảng đã quy định trước, nên `mean` của các cột đó sẽ chỉ có ý nghĩa ở mức tương đối"
   ]
  },
  {
   "cell_type": "markdown",
   "metadata": {},
   "source": [
    "Ví dụ:\n",
    "- **Medu**: mother's education (numeric: 0 - none, 1 - primary education (4th grade), 2 - “ 5th to 9th grade, 3 - “ secondary education or 4 - “ higher education)\n",
    "- Có: `mean` của **Medu** là 2.749367\n"
   ]
  },
  {
   "cell_type": "markdown",
   "metadata": {},
   "source": [
    "#### Với mỗi cột có kiểu dữ liệu dạng categorical, các giá trị được phân bố như thế nào?"
   ]
  },
  {
   "cell_type": "markdown",
   "metadata": {},
   "source": [
    "`mat_df` có các cột catgorical là `school`,`sex`,`address`,`famsize`,`Pstatus`,`Mjob`,`Fjob`,`reason`,`guardian`,`schoolsup`,`famsup`,\n",
    "`paid`,`activities`,`nursery`,`higher`,`internet`,`romantic`"
   ]
  },
  {
   "cell_type": "code",
   "execution_count": 10,
   "metadata": {},
   "outputs": [],
   "source": [
    "categorical = obj"
   ]
  },
  {
   "cell_type": "markdown",
   "metadata": {},
   "source": [
    "Ta xét tỉ lệ giá trị thiếu của các cột"
   ]
  },
  {
   "cell_type": "code",
   "execution_count": 11,
   "metadata": {},
   "outputs": [
    {
     "data": {
      "text/plain": [
       "{'school': 0.0,\n",
       " 'sex': 0.0,\n",
       " 'address': 0.0,\n",
       " 'famsize': 0.0,\n",
       " 'Pstatus': 0.0,\n",
       " 'Mjob': 0.0,\n",
       " 'Fjob': 0.0,\n",
       " 'reason': 0.0,\n",
       " 'guardian': 0.0,\n",
       " 'schoolsup': 0.0,\n",
       " 'famsup': 0.0,\n",
       " 'paid': 0.0,\n",
       " 'activities': 0.0,\n",
       " 'nursery': 0.0,\n",
       " 'higher': 0.0,\n",
       " 'internet': 0.0,\n",
       " 'romantic': 0.0}"
      ]
     },
     "execution_count": 11,
     "metadata": {},
     "output_type": "execute_result"
    }
   ],
   "source": [
    "cate_missing_ratio = {}\n",
    "for cate in categorical:\n",
    "    cate_missing_ratio[cate] = round(((np.where(pd.isna(mat_df[cate])==True)[0].size/num_rows)*100),3)\n",
    "cate_missing_ratio"
   ]
  },
  {
   "cell_type": "markdown",
   "metadata": {},
   "source": [
    "Vậy các cột catgorical cũng không có giá trị thiếu nào"
   ]
  },
  {
   "cell_type": "markdown",
   "metadata": {},
   "source": [
    "Tiếp theo, với mỗi cột categorical, ta xét và lưu vào `cate_col_info_df`\n",
    "- Số lượng các giá trị (`num_values`)\n",
    "- Tỉ lệ % (từ 0 đến 100) của mỗi giá trị được sort theo tỉ lệ % giảm dần (`value_percentages`)"
   ]
  },
  {
   "cell_type": "code",
   "execution_count": 12,
   "metadata": {},
   "outputs": [
    {
     "data": {
      "text/html": [
       "<div>\n",
       "<style scoped>\n",
       "    .dataframe tbody tr th:only-of-type {\n",
       "        vertical-align: middle;\n",
       "    }\n",
       "\n",
       "    .dataframe tbody tr th {\n",
       "        vertical-align: top;\n",
       "    }\n",
       "\n",
       "    .dataframe thead th {\n",
       "        text-align: right;\n",
       "    }\n",
       "</style>\n",
       "<table border=\"1\" class=\"dataframe\">\n",
       "  <thead>\n",
       "    <tr style=\"text-align: right;\">\n",
       "      <th></th>\n",
       "      <th>school</th>\n",
       "      <th>sex</th>\n",
       "      <th>address</th>\n",
       "      <th>famsize</th>\n",
       "      <th>Pstatus</th>\n",
       "      <th>Mjob</th>\n",
       "      <th>Fjob</th>\n",
       "      <th>reason</th>\n",
       "      <th>guardian</th>\n",
       "      <th>schoolsup</th>\n",
       "      <th>famsup</th>\n",
       "      <th>paid</th>\n",
       "      <th>activities</th>\n",
       "      <th>nursery</th>\n",
       "      <th>higher</th>\n",
       "      <th>internet</th>\n",
       "      <th>romantic</th>\n",
       "    </tr>\n",
       "  </thead>\n",
       "  <tbody>\n",
       "    <tr>\n",
       "      <th>num_values</th>\n",
       "      <td>2</td>\n",
       "      <td>2</td>\n",
       "      <td>2</td>\n",
       "      <td>2</td>\n",
       "      <td>2</td>\n",
       "      <td>5</td>\n",
       "      <td>5</td>\n",
       "      <td>4</td>\n",
       "      <td>3</td>\n",
       "      <td>2</td>\n",
       "      <td>2</td>\n",
       "      <td>2</td>\n",
       "      <td>2</td>\n",
       "      <td>2</td>\n",
       "      <td>2</td>\n",
       "      <td>2</td>\n",
       "      <td>2</td>\n",
       "    </tr>\n",
       "    <tr>\n",
       "      <th>value_percentages</th>\n",
       "      <td>{'GP': 88.35443037974684, 'MS': 11.64556962025...</td>\n",
       "      <td>{'F': 52.65822784810127, 'M': 47.34177215189874}</td>\n",
       "      <td>{'U': 77.72151898734178, 'R': 22.278481012658226}</td>\n",
       "      <td>{'GT3': 71.13924050632912, 'LE3': 28.860759493...</td>\n",
       "      <td>{'T': 89.62025316455696, 'A': 10.379746835443038}</td>\n",
       "      <td>{'other': 35.69620253164557, 'services': 26.07...</td>\n",
       "      <td>{'other': 54.936708860759495, 'services': 28.1...</td>\n",
       "      <td>{'course': 36.708860759493675, 'home': 27.5949...</td>\n",
       "      <td>{'mother': 69.11392405063292, 'father': 22.784...</td>\n",
       "      <td>{'no': 87.0886075949367, 'yes': 12.91139240506...</td>\n",
       "      <td>{'yes': 61.26582278481013, 'no': 38.7341772151...</td>\n",
       "      <td>{'no': 54.177215189873415, 'yes': 45.822784810...</td>\n",
       "      <td>{'yes': 50.8860759493671, 'no': 49.11392405063...</td>\n",
       "      <td>{'yes': 79.49367088607595, 'no': 20.5063291139...</td>\n",
       "      <td>{'yes': 94.9367088607595, 'no': 5.063291139240...</td>\n",
       "      <td>{'yes': 83.29113924050633, 'no': 16.7088607594...</td>\n",
       "      <td>{'no': 66.58227848101265, 'yes': 33.4177215189...</td>\n",
       "    </tr>\n",
       "  </tbody>\n",
       "</table>\n",
       "</div>"
      ],
      "text/plain": [
       "                                                              school  \\\n",
       "num_values                                                         2   \n",
       "value_percentages  {'GP': 88.35443037974684, 'MS': 11.64556962025...   \n",
       "\n",
       "                                                                sex  \\\n",
       "num_values                                                        2   \n",
       "value_percentages  {'F': 52.65822784810127, 'M': 47.34177215189874}   \n",
       "\n",
       "                                                             address  \\\n",
       "num_values                                                         2   \n",
       "value_percentages  {'U': 77.72151898734178, 'R': 22.278481012658226}   \n",
       "\n",
       "                                                             famsize  \\\n",
       "num_values                                                         2   \n",
       "value_percentages  {'GT3': 71.13924050632912, 'LE3': 28.860759493...   \n",
       "\n",
       "                                                             Pstatus  \\\n",
       "num_values                                                         2   \n",
       "value_percentages  {'T': 89.62025316455696, 'A': 10.379746835443038}   \n",
       "\n",
       "                                                                Mjob  \\\n",
       "num_values                                                         5   \n",
       "value_percentages  {'other': 35.69620253164557, 'services': 26.07...   \n",
       "\n",
       "                                                                Fjob  \\\n",
       "num_values                                                         5   \n",
       "value_percentages  {'other': 54.936708860759495, 'services': 28.1...   \n",
       "\n",
       "                                                              reason  \\\n",
       "num_values                                                         4   \n",
       "value_percentages  {'course': 36.708860759493675, 'home': 27.5949...   \n",
       "\n",
       "                                                            guardian  \\\n",
       "num_values                                                         3   \n",
       "value_percentages  {'mother': 69.11392405063292, 'father': 22.784...   \n",
       "\n",
       "                                                           schoolsup  \\\n",
       "num_values                                                         2   \n",
       "value_percentages  {'no': 87.0886075949367, 'yes': 12.91139240506...   \n",
       "\n",
       "                                                              famsup  \\\n",
       "num_values                                                         2   \n",
       "value_percentages  {'yes': 61.26582278481013, 'no': 38.7341772151...   \n",
       "\n",
       "                                                                paid  \\\n",
       "num_values                                                         2   \n",
       "value_percentages  {'no': 54.177215189873415, 'yes': 45.822784810...   \n",
       "\n",
       "                                                          activities  \\\n",
       "num_values                                                         2   \n",
       "value_percentages  {'yes': 50.8860759493671, 'no': 49.11392405063...   \n",
       "\n",
       "                                                             nursery  \\\n",
       "num_values                                                         2   \n",
       "value_percentages  {'yes': 79.49367088607595, 'no': 20.5063291139...   \n",
       "\n",
       "                                                              higher  \\\n",
       "num_values                                                         2   \n",
       "value_percentages  {'yes': 94.9367088607595, 'no': 5.063291139240...   \n",
       "\n",
       "                                                            internet  \\\n",
       "num_values                                                         2   \n",
       "value_percentages  {'yes': 83.29113924050633, 'no': 16.7088607594...   \n",
       "\n",
       "                                                            romantic  \n",
       "num_values                                                         2  \n",
       "value_percentages  {'no': 66.58227848101265, 'yes': 33.4177215189...  "
      ]
     },
     "execution_count": 12,
     "metadata": {},
     "output_type": "execute_result"
    }
   ],
   "source": [
    "cate_col_info_df = pd.DataFrame(index = ['num_values', 'value_percentages'])\n",
    "for cate in categorical:\n",
    "    info = pd.Series([mat_df[cate].nunique(), (mat_df[cate].value_counts(normalize=True)*100).to_dict()], \n",
    "                  index = ['num_values', 'value_percentages'])\n",
    "    cate_col_info_df[cate] = info\n",
    "cate_col_info_df"
   ]
  },
  {
   "cell_type": "markdown",
   "metadata": {},
   "source": [
    "## Đặt câu hỏi cần trả lời"
   ]
  },
  {
   "cell_type": "markdown",
   "metadata": {},
   "source": [
    "Câu hỏi: Một tuần học bao nhiêu giờ để đạt được kết quả điểm toán tối ưu nhất ? "
   ]
  },
  {
   "cell_type": "markdown",
   "metadata": {},
   "source": [
    "Đây là một câu hỏi quan trọng cần trả lời, vì nếu biết được thời gian học nào là tối ưu nhất, học sinh có thể dựa vào đó để căn chỉnh thời gian học sao cho không phí quá nhiều thời gian, cũng như đủ thời gian để tiếp thu rèn luyện được lượng kiến thức môn toán này."
   ]
  },
  {
   "cell_type": "markdown",
   "metadata": {},
   "source": [
    "#### Tiền xử lý"
   ]
  },
  {
   "cell_type": "markdown",
   "metadata": {},
   "source": [
    "- Cộng điểm 3 học kì của từng học sinh lại thành điểm tổng lưu vào cột `score`"
   ]
  },
  {
   "cell_type": "code",
   "execution_count": 257,
   "metadata": {},
   "outputs": [],
   "source": [
    "mat_df['score'] = mat_df['G1'] + mat_df['G2'] + mat_df['G3']"
   ]
  },
  {
   "cell_type": "markdown",
   "metadata": {},
   "source": [
    "Đầu tiên, ta sẽ thử nắm bắt tổng quát sự ảnh hưởng của thời gian học lên điểm toán như thế nào."
   ]
  },
  {
   "cell_type": "markdown",
   "metadata": {},
   "source": [
    "Theo mô tả : **studytime**: weekly study time (numeric: 1 - <2 hours, 2 - 2 to 5 hours, 3 - 5 to 10 hours, or 4 - >10 hours)"
   ]
  },
  {
   "cell_type": "markdown",
   "metadata": {},
   "source": [
    "- Ta tính điểm trung bình của điểm toán qua thời gian học\n",
    "- Thể hiện bằng biểu đồ plot"
   ]
  },
  {
   "cell_type": "code",
   "execution_count": 256,
   "metadata": {
    "scrolled": true
   },
   "outputs": [
    {
     "data": {
      "image/png": "[encoded data removed]",
      "text/plain": [
       "<Figure size 432x288 with 1 Axes>"
      ]
     },
     "metadata": {
      "needs_background": "light"
     },
     "output_type": "display_data"
    }
   ],
   "source": [
    "x = sorted(mat_df['studytime'].unique())\n",
    "m_score = []\n",
    "for i in range(1, mat_df['studytime'].nunique()+1):\n",
    "    m_score.append(mat_df[mat_df['studytime']==i]['score'].mean())\n",
    "plt.plot(x,m_score)\n",
    "plt.ylabel(\"Điểm\")\n",
    "plt.xlabel(\"Thời gian học\")\n",
    "plt.xticks([1,2,3,4])\n",
    "plt.show()"
   ]
  },
  {
   "cell_type": "markdown",
   "metadata": {},
   "source": [
    "Nhận xét tổng quát: \n",
    "- Điểm số trung bình dao động từ gần 31 đến hơn 35 điểm theo độ tăng thời gian học\n",
    "- Thời gian học bỏ ra càng nhiều, điểm thu lại càng lớn ! \n",
    "- Nhưng, từ thời gian học ở mức 3 lên 4 (từ 5-10h và >10h) tăng rất ít"
   ]
  },
  {
   "cell_type": "markdown",
   "metadata": {},
   "source": [
    "Với những nhận xét trên ta có kết luận \"Thời gian học bỏ ra càng nhiều, điểm thu lại càng lớn\", nhưng chưa đủ thông tin để kết luận liệu mức thời gian nào sẽ là tối ưu nhất! "
   ]
  },
  {
   "cell_type": "markdown",
   "metadata": {},
   "source": [
    "#### Tiền xử lý:"
   ]
  },
  {
   "cell_type": "markdown",
   "metadata": {},
   "source": [
    "- Ta sẽ phân loại học sinh dựa vào điểm số:\n",
    "- Cột `score` sẽ là các số 0, 1, 2, 3, 4:\n",
    "- 0 - 0 <= score <10 - Yêu\n",
    "- 1 - 10 <= score <20 - Trung bình\n",
    "- 2 - 20 <= score <40 - Khá\n",
    "- 3 - 40 <= score <50 - Giỏi\n",
    "- 4 - 50 <= score <=60 - Xuất sắc"
   ]
  },
  {
   "cell_type": "code",
   "execution_count": 251,
   "metadata": {
    "scrolled": true
   },
   "outputs": [
    {
     "data": {
      "text/html": [
       "<div>\n",
       "<style scoped>\n",
       "    .dataframe tbody tr th:only-of-type {\n",
       "        vertical-align: middle;\n",
       "    }\n",
       "\n",
       "    .dataframe tbody tr th {\n",
       "        vertical-align: top;\n",
       "    }\n",
       "\n",
       "    .dataframe thead th {\n",
       "        text-align: right;\n",
       "    }\n",
       "</style>\n",
       "<table border=\"1\" class=\"dataframe\">\n",
       "  <thead>\n",
       "    <tr style=\"text-align: right;\">\n",
       "      <th></th>\n",
       "      <th>school</th>\n",
       "      <th>sex</th>\n",
       "      <th>age</th>\n",
       "      <th>address</th>\n",
       "      <th>famsize</th>\n",
       "      <th>Pstatus</th>\n",
       "      <th>Medu</th>\n",
       "      <th>Fedu</th>\n",
       "      <th>Mjob</th>\n",
       "      <th>Fjob</th>\n",
       "      <th>...</th>\n",
       "      <th>freetime</th>\n",
       "      <th>goout</th>\n",
       "      <th>Dalc</th>\n",
       "      <th>Walc</th>\n",
       "      <th>health</th>\n",
       "      <th>absences</th>\n",
       "      <th>G1</th>\n",
       "      <th>G2</th>\n",
       "      <th>G3</th>\n",
       "      <th>score</th>\n",
       "    </tr>\n",
       "  </thead>\n",
       "  <tbody>\n",
       "    <tr>\n",
       "      <th>0</th>\n",
       "      <td>GP</td>\n",
       "      <td>F</td>\n",
       "      <td>18</td>\n",
       "      <td>U</td>\n",
       "      <td>GT3</td>\n",
       "      <td>A</td>\n",
       "      <td>4</td>\n",
       "      <td>4</td>\n",
       "      <td>at_home</td>\n",
       "      <td>teacher</td>\n",
       "      <td>...</td>\n",
       "      <td>3</td>\n",
       "      <td>4</td>\n",
       "      <td>1</td>\n",
       "      <td>1</td>\n",
       "      <td>3</td>\n",
       "      <td>6</td>\n",
       "      <td>5</td>\n",
       "      <td>6</td>\n",
       "      <td>6</td>\n",
       "      <td>1</td>\n",
       "    </tr>\n",
       "    <tr>\n",
       "      <th>1</th>\n",
       "      <td>GP</td>\n",
       "      <td>F</td>\n",
       "      <td>17</td>\n",
       "      <td>U</td>\n",
       "      <td>GT3</td>\n",
       "      <td>T</td>\n",
       "      <td>1</td>\n",
       "      <td>1</td>\n",
       "      <td>at_home</td>\n",
       "      <td>other</td>\n",
       "      <td>...</td>\n",
       "      <td>3</td>\n",
       "      <td>3</td>\n",
       "      <td>1</td>\n",
       "      <td>1</td>\n",
       "      <td>3</td>\n",
       "      <td>4</td>\n",
       "      <td>5</td>\n",
       "      <td>5</td>\n",
       "      <td>6</td>\n",
       "      <td>1</td>\n",
       "    </tr>\n",
       "    <tr>\n",
       "      <th>2</th>\n",
       "      <td>GP</td>\n",
       "      <td>F</td>\n",
       "      <td>15</td>\n",
       "      <td>U</td>\n",
       "      <td>LE3</td>\n",
       "      <td>T</td>\n",
       "      <td>1</td>\n",
       "      <td>1</td>\n",
       "      <td>at_home</td>\n",
       "      <td>other</td>\n",
       "      <td>...</td>\n",
       "      <td>3</td>\n",
       "      <td>2</td>\n",
       "      <td>2</td>\n",
       "      <td>3</td>\n",
       "      <td>3</td>\n",
       "      <td>10</td>\n",
       "      <td>7</td>\n",
       "      <td>8</td>\n",
       "      <td>10</td>\n",
       "      <td>2</td>\n",
       "    </tr>\n",
       "    <tr>\n",
       "      <th>3</th>\n",
       "      <td>GP</td>\n",
       "      <td>F</td>\n",
       "      <td>15</td>\n",
       "      <td>U</td>\n",
       "      <td>GT3</td>\n",
       "      <td>T</td>\n",
       "      <td>4</td>\n",
       "      <td>2</td>\n",
       "      <td>health</td>\n",
       "      <td>services</td>\n",
       "      <td>...</td>\n",
       "      <td>2</td>\n",
       "      <td>2</td>\n",
       "      <td>1</td>\n",
       "      <td>1</td>\n",
       "      <td>5</td>\n",
       "      <td>2</td>\n",
       "      <td>15</td>\n",
       "      <td>14</td>\n",
       "      <td>15</td>\n",
       "      <td>3</td>\n",
       "    </tr>\n",
       "    <tr>\n",
       "      <th>4</th>\n",
       "      <td>GP</td>\n",
       "      <td>F</td>\n",
       "      <td>16</td>\n",
       "      <td>U</td>\n",
       "      <td>GT3</td>\n",
       "      <td>T</td>\n",
       "      <td>3</td>\n",
       "      <td>3</td>\n",
       "      <td>other</td>\n",
       "      <td>other</td>\n",
       "      <td>...</td>\n",
       "      <td>3</td>\n",
       "      <td>2</td>\n",
       "      <td>1</td>\n",
       "      <td>2</td>\n",
       "      <td>5</td>\n",
       "      <td>4</td>\n",
       "      <td>6</td>\n",
       "      <td>10</td>\n",
       "      <td>10</td>\n",
       "      <td>2</td>\n",
       "    </tr>\n",
       "  </tbody>\n",
       "</table>\n",
       "<p>5 rows × 34 columns</p>\n",
       "</div>"
      ],
      "text/plain": [
       "  school sex  age address famsize Pstatus  Medu  Fedu     Mjob      Fjob  ...  \\\n",
       "0     GP   F   18       U     GT3       A     4     4  at_home   teacher  ...   \n",
       "1     GP   F   17       U     GT3       T     1     1  at_home     other  ...   \n",
       "2     GP   F   15       U     LE3       T     1     1  at_home     other  ...   \n",
       "3     GP   F   15       U     GT3       T     4     2   health  services  ...   \n",
       "4     GP   F   16       U     GT3       T     3     3    other     other  ...   \n",
       "\n",
       "  freetime goout  Dalc  Walc  health absences  G1  G2  G3 score  \n",
       "0        3     4     1     1       3        6   5   6   6     1  \n",
       "1        3     3     1     1       3        4   5   5   6     1  \n",
       "2        3     2     2     3       3       10   7   8  10     2  \n",
       "3        2     2     1     1       5        2  15  14  15     3  \n",
       "4        3     2     1     2       5        4   6  10  10     2  \n",
       "\n",
       "[5 rows x 34 columns]"
      ]
     },
     "execution_count": 251,
     "metadata": {},
     "output_type": "execute_result"
    }
   ],
   "source": [
    "df = mat_df.copy()\n",
    "df.loc[df['score'].isin(list(range(10))),'score']=0\n",
    "df.loc[df['score'].isin(list(range(10,20))),'score']=1\n",
    "df.loc[df['score'].isin(list(range(20,40))),'score']=2\n",
    "df.loc[df['score'].isin(list(range(40,50))),'score']=3\n",
    "df.loc[df['score'].isin(list(range(50,61))),'score']=4\n",
    "df.head()"
   ]
  },
  {
   "cell_type": "markdown",
   "metadata": {},
   "source": [
    "Tiếp theo, ta sẽ tìm hiểu sự ảnh hưởng của thời gian học lên từng phân loại học lực:\n",
    "- Tính số lượng học sinh của từng phân loại học lực theo mức thời gian học\n",
    "- Vẽ biểu đồ plot thể hiện"
   ]
  },
  {
   "cell_type": "code",
   "execution_count": 264,
   "metadata": {},
   "outputs": [],
   "source": [
    "total = []\n",
    "for i in range(5):\n",
    "    result = (df[df['score']==i]['studytime'].value_counts()).to_dict()\n",
    "    if 4 not in result.keys():\n",
    "        result[4]=0\n",
    "    result = dict(sorted(result.items()))\n",
    "    total.append(list(result.values()))"
   ]
  },
  {
   "cell_type": "code",
   "execution_count": 267,
   "metadata": {},
   "outputs": [
    {
     "data": {
      "image/png": "[encoded data removed]",
      "text/plain": [
       "<Figure size 432x288 with 1 Axes>"
      ]
     },
     "metadata": {
      "needs_background": "light"
     },
     "output_type": "display_data"
    }
   ],
   "source": [
    "data = total\n",
    "\n",
    "columns = (1, 2, 3, 4)\n",
    "rows = [0, 1, 2, 3, 4]\n",
    "\n",
    "colors = plt.cm.BuPu(np.linspace(0, 0.5, len(rows)))\n",
    "n_rows = len(data)\n",
    "\n",
    "index = np.arange(len(columns)) \n",
    "bar_width = 0.4\n",
    "\n",
    "y_offset = np.zeros(len(columns))\n",
    "\n",
    "for row in range(n_rows):\n",
    "    plt.bar(index, data[row], bar_width, bottom=y_offset, color=colors[row])\n",
    "    y_offset += data[row]\n",
    "\n",
    "cell_text = data\n",
    "\n",
    "the_table = plt.table(cellText=cell_text,\n",
    "                      rowLabels=[\"Yếu\", \"Trung bình\", \"Khá\", \"Giỏi\", \"Xuất sắc\"],\n",
    "                      rowColours=colors,\n",
    "                      colLabels=[\"<2 giờ\", \"2 - 5 giờ\",\"5 - 10 giờ\",\">10 giờ\"],\n",
    "                      loc='bottom')\n",
    "\n",
    "colors = colors[::-1]\n",
    "\n",
    "plt.subplots_adjust(left=0.2, bottom=0.2)\n",
    "\n",
    "plt.xticks([])\n",
    "plt.title('Số lượng học sinh của từng phân loại học lực theo mức thời gian học')\n",
    "plt.ylabel(\"số lượng học sinh\")\n",
    "\n",
    "plt.show()"
   ]
  },
  {
   "cell_type": "markdown",
   "metadata": {},
   "source": [
    "Nhận xét:\n",
    "- Không có học sinh có điểm toán loại yếu nào học toán >10h một tuần\n",
    "\n",
    "=> Bổ sung thêm thông tin cho kết luận tổng quát, bỏ nhiều thời gian học thì điểm càng cao\n",
    "- Số lượng học sinh lựa chọn học toán từ 2-5h mỗi tuần là nhiều nhất và số lượng đạt được điểm khá và giỏi cũng cao nhất\n",
    "\n",
    "=> \"Có thể\" 2-5h mỗi tuần là đủ để học toán\n",
    "- Số lượng học sinh có điểm toán loại xuất sắc giảm dần theo độ tăng mức thời gian học\n",
    "\n",
    "=> Không hẳn học càng nhiều là càng tốt (14/21 học sinh có điểm toán xuất sắc học toán ở mức <2h và 2-5h)"
   ]
  },
  {
   "cell_type": "markdown",
   "metadata": {},
   "source": [
    "Tiếp theo, ta xem xét chi tiết độ phân bố học lực theo mức thời gian học bằng biểu đồ tròn (pie chart):\n",
    "- Tính phần trăm giá trị xuất hiện của các phân loại theo từng mức thời gian học\n",
    "- Vẽ biểu đồ multi pie chart"
   ]
  },
  {
   "cell_type": "code",
   "execution_count": 243,
   "metadata": {},
   "outputs": [
    {
     "data": {
      "text/html": [
       "<div>\n",
       "<style scoped>\n",
       "    .dataframe tbody tr th:only-of-type {\n",
       "        vertical-align: middle;\n",
       "    }\n",
       "\n",
       "    .dataframe tbody tr th {\n",
       "        vertical-align: top;\n",
       "    }\n",
       "\n",
       "    .dataframe thead th {\n",
       "        text-align: right;\n",
       "    }\n",
       "</style>\n",
       "<table border=\"1\" class=\"dataframe\">\n",
       "  <thead>\n",
       "    <tr style=\"text-align: right;\">\n",
       "      <th></th>\n",
       "      <th>&lt;2 hours</th>\n",
       "      <th>2 to 5 hours</th>\n",
       "      <th>5 to 10 hours</th>\n",
       "      <th>&gt;10 hours</th>\n",
       "    </tr>\n",
       "  </thead>\n",
       "  <tbody>\n",
       "    <tr>\n",
       "      <th>Yếu</th>\n",
       "      <td>0.057143</td>\n",
       "      <td>0.015152</td>\n",
       "      <td>0.015385</td>\n",
       "      <td>NaN</td>\n",
       "    </tr>\n",
       "    <tr>\n",
       "      <th>Trung Bình</th>\n",
       "      <td>0.123810</td>\n",
       "      <td>0.121212</td>\n",
       "      <td>0.076923</td>\n",
       "      <td>0.111111</td>\n",
       "    </tr>\n",
       "    <tr>\n",
       "      <th>Khá</th>\n",
       "      <td>0.571429</td>\n",
       "      <td>0.661616</td>\n",
       "      <td>0.476923</td>\n",
       "      <td>0.555556</td>\n",
       "    </tr>\n",
       "    <tr>\n",
       "      <th>Giỏi</th>\n",
       "      <td>0.180952</td>\n",
       "      <td>0.166667</td>\n",
       "      <td>0.353846</td>\n",
       "      <td>0.222222</td>\n",
       "    </tr>\n",
       "    <tr>\n",
       "      <th>Xuất sắc</th>\n",
       "      <td>0.066667</td>\n",
       "      <td>0.035354</td>\n",
       "      <td>0.076923</td>\n",
       "      <td>0.111111</td>\n",
       "    </tr>\n",
       "  </tbody>\n",
       "</table>\n",
       "</div>"
      ],
      "text/plain": [
       "            <2 hours  2 to 5 hours  5 to 10 hours  >10 hours\n",
       "Yếu         0.057143      0.015152       0.015385        NaN\n",
       "Trung Bình  0.123810      0.121212       0.076923   0.111111\n",
       "Khá         0.571429      0.661616       0.476923   0.555556\n",
       "Giỏi        0.180952      0.166667       0.353846   0.222222\n",
       "Xuất sắc    0.066667      0.035354       0.076923   0.111111"
      ]
     },
     "execution_count": 243,
     "metadata": {},
     "output_type": "execute_result"
    }
   ],
   "source": [
    "result = pd.DataFrame(index=[0,1,2,3,4])\n",
    "for i in range(1,5):\n",
    "    result[i] = (df[df['studytime']==i]['score'].value_counts(normalize=True))\n",
    "result = result.rename(index={0: \"Yếu\", 1: \"Trung Bình\", 2: \"Khá\", 3:\"Giỏi\", 4:\"Xuất sắc\"})\n",
    "result = result.rename(columns={1:\"<2 h\",2: \"2 to 5 h\",3:\"5 to 10 h\",4:\">10 h\"})\n",
    "result"
   ]
  },
  {
   "cell_type": "code",
   "execution_count": 244,
   "metadata": {},
   "outputs": [
    {
     "data": {
      "text/plain": [
       "array([<AxesSubplot:ylabel='<2 hours'>,\n",
       "       <AxesSubplot:ylabel='2 to 5 hours'>,\n",
       "       <AxesSubplot:ylabel='5 to 10 hours'>,\n",
       "       <AxesSubplot:ylabel='>10 hours'>], dtype=object)"
      ]
     },
     "execution_count": 244,
     "metadata": {},
     "output_type": "execute_result"
    },
    {
     "data": {
      "image/png": "[encoded data removed]",
      "text/plain": [
       "<Figure size 1440x1440 with 4 Axes>"
      ]
     },
     "metadata": {},
     "output_type": "display_data"
    }
   ],
   "source": [
    "result.plot.pie(subplots=True, figsize=(20,20))"
   ]
  },
  {
   "cell_type": "markdown",
   "metadata": {},
   "source": [
    "Nhận xét:\n",
    "- Số lượng điểm khá luôn chiếm phần lớn với mọi mức thời gian\n",
    "- Phần trăm điểm giỏi tăng mạnh ở mức thời gian 5-10h. Song, phần trăm khá cũng giảm tương đương\n",
    "\n",
    "=> Đổi mức thời gian học từ 2-5h -> 5-10h sẽ giúp học sinh có điểm toán khá cải thiện thành tích đáng kể \n",
    "- Phần trăm điểm trung bình + điểm yếu có vẻ giảm dần theo độ tăng mức thời gian"
   ]
  },
  {
   "cell_type": "markdown",
   "metadata": {},
   "source": [
    "Từ các nhận xét, ta có kết luận:\n",
    "1. Thời gian học càng lớn thì khả năng bị điểm kém sẽ càng giảm \n",
    "2. Mức 1 và 2 là khoảng thời gian tương đối đủ tiếp thu môn toán\n",
    "3. Nếu đang có điểm toán khá hãy thử tăng thời gian học lên mức 3 (5-10h mỗi tuần)\n",
    "4. Đối với các cá nhân muốn có điểm toán xuất sắc, bỏ ra nhiều thời gian thôi chưa đủ !"
   ]
  }
 ],
 "metadata": {
  "interpreter": {
   "hash": "4523760acd2e98ea694316eb0cd84f0969f99d1a04363ebd38b8ee985ea4f03e"
  },
  "kernelspec": {
   "display_name": "Python 3 (ipykernel)",
   "language": "python",
   "name": "python3"
  },
  "language_info": {
   "codemirror_mode": {
    "name": "ipython",
    "version": 3
   },
   "file_extension": ".py",
   "mimetype": "text/x-python",
   "name": "python",
   "nbconvert_exporter": "python",
   "pygments_lexer": "ipython3",
   "version": "3.8.8"
  }
 },
 "nbformat": 4,
 "nbformat_minor": 2
}
